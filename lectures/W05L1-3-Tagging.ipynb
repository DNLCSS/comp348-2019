{
  "nbformat": 4,
  "nbformat_minor": 0,
  "metadata": {
    "colab": {
      "name": "W05L1-3-Tagging.ipynb",
      "version": "0.3.2",
      "provenance": []
    },
    "kernelspec": {
      "name": "python3",
      "display_name": "Python 3"
    },
    "accelerator": "GPU"
  },
  "cells": [
    {
      "metadata": {
        "slideshow": {
          "slide_type": "slide"
        },
        "id": "AWyCmzO622th",
        "colab_type": "text"
      },
      "cell_type": "markdown",
      "source": [
        "# Building a Part of Speech Tagger with Keras\n",
        "\n",
        "This notebook is based on nlpforhackers' post: https://nlpforhackers.io/lstm-pos-tagger-keras/. We will look at how to build a part of speech tagger using a LSTM layer.\n",
        "\n",
        "We will use NLTK's treebank corpus. This corpus has, among other kinds of information, annotations about the parts of speech of the words."
      ]
    },
    {
      "metadata": {
        "id": "dugp1ZSX22tm",
        "colab_type": "code",
        "colab": {
          "base_uri": "https://localhost:8080/",
          "height": 127
        },
        "outputId": "7342810e-a878-4f18-9ced-57689022b159"
      },
      "cell_type": "code",
      "source": [
        "import nltk\n",
        "nltk.download('treebank')\n",
        "\n",
        "tagged_sentences = nltk.corpus.treebank.tagged_sents()\n",
        " \n",
        "print(tagged_sentences[0])\n",
        "print(\"Tagged sentences: \", len(tagged_sentences))\n",
        "print(\"Tagged words:\", len(nltk.corpus.treebank.tagged_words()))"
      ],
      "execution_count": 1,
      "outputs": [
        {
          "output_type": "stream",
          "text": [
            "[nltk_data] Downloading package treebank to /root/nltk_data...\n",
            "[nltk_data]   Unzipping corpora/treebank.zip.\n",
            "[('Pierre', 'NNP'), ('Vinken', 'NNP'), (',', ','), ('61', 'CD'), ('years', 'NNS'), ('old', 'JJ'), (',', ','), ('will', 'MD'), ('join', 'VB'), ('the', 'DT'), ('board', 'NN'), ('as', 'IN'), ('a', 'DT'), ('nonexecutive', 'JJ'), ('director', 'NN'), ('Nov.', 'NNP'), ('29', 'CD'), ('.', '.')]\n",
            "Tagged sentences:  3914\n",
            "Tagged words: 100676\n"
          ],
          "name": "stdout"
        }
      ]
    },
    {
      "metadata": {
        "slideshow": {
          "slide_type": "slide"
        },
        "id": "aKG3Wi1k22tx",
        "colab_type": "text"
      },
      "cell_type": "markdown",
      "source": [
        "As always, before training a model, we need to split the data in training and testing data:"
      ]
    },
    {
      "metadata": {
        "id": "B0BTKbIe22tz",
        "colab_type": "code",
        "colab": {}
      },
      "cell_type": "code",
      "source": [
        "import random\n",
        "random.seed(1234)\n",
        "tagged_sentences = list(tagged_sentences) # we convert the data to a list\n",
        "random.shuffle(tagged_sentences)"
      ],
      "execution_count": 0,
      "outputs": []
    },
    {
      "metadata": {
        "id": "sEkj81QG22t4",
        "colab_type": "code",
        "colab": {}
      },
      "cell_type": "code",
      "source": [
        "threshold = int(len(tagged_sentences)*.6)\n",
        "train = tagged_sentences[:threshold]\n",
        "test = tagged_sentences[threshold:]"
      ],
      "execution_count": 0,
      "outputs": []
    },
    {
      "metadata": {
        "slideshow": {
          "slide_type": "slide"
        },
        "id": "42eTQ3kQ22t9",
        "colab_type": "text"
      },
      "cell_type": "markdown",
      "source": [
        "Let’s restructure the data a bit. Let’s separate the words from the tags."
      ]
    },
    {
      "metadata": {
        "id": "J-DZLM5e22t_",
        "colab_type": "code",
        "colab": {}
      },
      "cell_type": "code",
      "source": [
        "import numpy as np\n",
        " \n",
        "train_sentences, train_tags =[], [] \n",
        "for tagged_sentence in train:\n",
        "    sentence, tags = zip(*tagged_sentence)\n",
        "    train_sentences.append(np.array(sentence))\n",
        "    train_tags.append(np.array(tags))\n",
        "    \n",
        "test_sentences, test_tags =[], [] \n",
        "for tagged_sentence in test:\n",
        "    sentence, tags = zip(*tagged_sentence)\n",
        "    test_sentences.append(np.array(sentence))\n",
        "    test_tags.append(np.array(tags))"
      ],
      "execution_count": 0,
      "outputs": []
    },
    {
      "metadata": {
        "id": "aKlHJ21O22uE",
        "colab_type": "code",
        "colab": {
          "base_uri": "https://localhost:8080/",
          "height": 71
        },
        "outputId": "92256bab-6e33-4dd7-bd17-8c57170c417a"
      },
      "cell_type": "code",
      "source": [
        "print(train_sentences[5])\n",
        "print(train_tags[5])"
      ],
      "execution_count": 5,
      "outputs": [
        {
          "output_type": "stream",
          "text": [
            "['They' 'are' 'keeping' 'a' 'close' 'watch' 'on' 'the' 'yield' 'on' 'the'\n",
            " 'S&P' '500' '.']\n",
            "['PRP' 'VBP' 'VBG' 'DT' 'JJ' 'NN' 'IN' 'DT' 'NN' 'IN' 'DT' 'NNP' 'CD' '.']\n"
          ],
          "name": "stdout"
        }
      ]
    },
    {
      "metadata": {
        "slideshow": {
          "slide_type": "slide"
        },
        "id": "TO6Fo_ez22uK",
        "colab_type": "text"
      },
      "cell_type": "markdown",
      "source": [
        "Let's now convert the words and tags to indices. We will reserve index 0 for padding, and index 1 for words that are out of the vocabulary (**OOV - Out of Vocabulary**)."
      ]
    },
    {
      "metadata": {
        "id": "Dpy45jUr22uM",
        "colab_type": "code",
        "colab": {}
      },
      "cell_type": "code",
      "source": [
        "words, tags = set([]), set([])\n",
        " \n",
        "for s in train_sentences:\n",
        "    for w in s:\n",
        "        words.add(w.lower())\n",
        " \n",
        "for ts in train_tags:\n",
        "    for t in ts:\n",
        "        tags.add(t)\n",
        " \n",
        "word2index = {w: i + 2 for i, w in enumerate(list(words))}\n",
        "word2index['-PAD-'] = 0  # The special value used for padding\n",
        "word2index['-OOV-'] = 1  # The special value used for OOVs\n",
        " \n",
        "tag2index = {t: i + 1 for i, t in enumerate(list(tags))}\n",
        "tag2index['-PAD-'] = 0  # The special value used to padding\n",
        "tag2index['-OOV-'] = 1  # There may also be unknown tags in the test data"
      ],
      "execution_count": 0,
      "outputs": []
    },
    {
      "metadata": {
        "slideshow": {
          "slide_type": "slide"
        },
        "id": "tz7jJt1R22uQ",
        "colab_type": "code",
        "colab": {
          "base_uri": "https://localhost:8080/",
          "height": 89
        },
        "outputId": "2dadfa40-1356-4eb1-e0db-c32dfb243863"
      },
      "cell_type": "code",
      "source": [
        "train_sentences_X, test_sentences_X, train_tags_y, test_tags_y = [], [], [], []\n",
        " \n",
        "for s in train_sentences:\n",
        "    s_int = []\n",
        "    for w in s:\n",
        "        try:\n",
        "            s_int.append(word2index[w.lower()])\n",
        "        except KeyError:\n",
        "            s_int.append(word2index['-OOV-'])\n",
        " \n",
        "    train_sentences_X.append(s_int)\n",
        " \n",
        "for s in test_sentences:\n",
        "    s_int = []\n",
        "    for w in s:\n",
        "        try:\n",
        "            s_int.append(word2index[w.lower()])\n",
        "        except KeyError:\n",
        "            s_int.append(word2index['-OOV-'])\n",
        " \n",
        "    test_sentences_X.append(s_int)\n",
        " \n",
        "for s in train_tags:\n",
        "    train_tags_y.append([tag2index[t] for t in s])\n",
        " \n",
        "for s in test_tags:\n",
        "    s_int = []\n",
        "    for t in s:\n",
        "        try:\n",
        "            s_int.append(tag2index[t])\n",
        "        except KeyError:\n",
        "            s_int.append(tag2index['-OOV-'])\n",
        "            \n",
        "    test_tags_y.append(s_int)\n",
        " \n",
        "print(train_sentences_X[0])\n",
        "print(test_sentences_X[0])\n",
        "print(train_tags_y[0])\n",
        "print(test_tags_y[0])"
      ],
      "execution_count": 7,
      "outputs": [
        {
          "output_type": "stream",
          "text": [
            "[608, 1472, 7273, 6180, 8361, 4026, 7926, 2929]\n",
            "[1447, 6569, 844, 8084, 5333, 1, 2200, 6384, 2627, 6771, 3773, 6384, 1, 181, 6908, 8361, 6508, 7064, 6384, 1760, 3003, 1, 2929]\n",
            "[27, 25, 30, 23, 36, 22, 22, 41]\n",
            "[38, 23, 17, 20, 23, 17, 32, 16, 3, 38, 17, 16, 17, 32, 17, 36, 42, 17, 16, 32, 37, 17, 41]\n"
          ],
          "name": "stdout"
        }
      ]
    },
    {
      "metadata": {
        "slideshow": {
          "slide_type": "slide"
        },
        "id": "tyBmXkCw22uW",
        "colab_type": "text"
      },
      "cell_type": "markdown",
      "source": [
        "Since Keras can only deal with fixed size sequences, we will pad all sequences to fit the longest sentence in the training data."
      ]
    },
    {
      "metadata": {
        "id": "e0ZdPDZA22uY",
        "colab_type": "code",
        "colab": {
          "base_uri": "https://localhost:8080/",
          "height": 35
        },
        "outputId": "1896d494-811b-432f-9bb4-1827e09776c0"
      },
      "cell_type": "code",
      "source": [
        "MAX_LENGTH = len(max(train_sentences_X, key=len))\n",
        "print(MAX_LENGTH)"
      ],
      "execution_count": 8,
      "outputs": [
        {
          "output_type": "stream",
          "text": [
            "271\n"
          ],
          "name": "stdout"
        }
      ]
    },
    {
      "metadata": {
        "scrolled": true,
        "id": "S8fOCFoD22ud",
        "colab_type": "code",
        "colab": {
          "base_uri": "https://localhost:8080/",
          "height": 1187
        },
        "outputId": "3b9cf831-5855-44d2-eb6a-212c05627a7f"
      },
      "cell_type": "code",
      "source": [
        "from keras.preprocessing.sequence import pad_sequences\n",
        " \n",
        "train_sentences_X = pad_sequences(train_sentences_X, maxlen=MAX_LENGTH, padding='post')\n",
        "test_sentences_X = pad_sequences(test_sentences_X, maxlen=MAX_LENGTH, padding='post')\n",
        "train_tags_y = pad_sequences(train_tags_y, maxlen=MAX_LENGTH, padding='post')\n",
        "test_tags_y = pad_sequences(test_tags_y, maxlen=MAX_LENGTH, padding='post')\n",
        " \n",
        "print(train_sentences_X[0])\n",
        "print(test_sentences_X[0])\n",
        "print(train_tags_y[0])\n",
        "print(test_tags_y[0])"
      ],
      "execution_count": 9,
      "outputs": [
        {
          "output_type": "stream",
          "text": [
            "Using TensorFlow backend.\n"
          ],
          "name": "stderr"
        },
        {
          "output_type": "stream",
          "text": [
            "[ 608 1472 7273 6180 8361 4026 7926 2929    0    0    0    0    0    0\n",
            "    0    0    0    0    0    0    0    0    0    0    0    0    0    0\n",
            "    0    0    0    0    0    0    0    0    0    0    0    0    0    0\n",
            "    0    0    0    0    0    0    0    0    0    0    0    0    0    0\n",
            "    0    0    0    0    0    0    0    0    0    0    0    0    0    0\n",
            "    0    0    0    0    0    0    0    0    0    0    0    0    0    0\n",
            "    0    0    0    0    0    0    0    0    0    0    0    0    0    0\n",
            "    0    0    0    0    0    0    0    0    0    0    0    0    0    0\n",
            "    0    0    0    0    0    0    0    0    0    0    0    0    0    0\n",
            "    0    0    0    0    0    0    0    0    0    0    0    0    0    0\n",
            "    0    0    0    0    0    0    0    0    0    0    0    0    0    0\n",
            "    0    0    0    0    0    0    0    0    0    0    0    0    0    0\n",
            "    0    0    0    0    0    0    0    0    0    0    0    0    0    0\n",
            "    0    0    0    0    0    0    0    0    0    0    0    0    0    0\n",
            "    0    0    0    0    0    0    0    0    0    0    0    0    0    0\n",
            "    0    0    0    0    0    0    0    0    0    0    0    0    0    0\n",
            "    0    0    0    0    0    0    0    0    0    0    0    0    0    0\n",
            "    0    0    0    0    0    0    0    0    0    0    0    0    0    0\n",
            "    0    0    0    0    0    0    0    0    0    0    0    0    0    0\n",
            "    0    0    0    0    0]\n",
            "[1447 6569  844 8084 5333    1 2200 6384 2627 6771 3773 6384    1  181\n",
            " 6908 8361 6508 7064 6384 1760 3003    1 2929    0    0    0    0    0\n",
            "    0    0    0    0    0    0    0    0    0    0    0    0    0    0\n",
            "    0    0    0    0    0    0    0    0    0    0    0    0    0    0\n",
            "    0    0    0    0    0    0    0    0    0    0    0    0    0    0\n",
            "    0    0    0    0    0    0    0    0    0    0    0    0    0    0\n",
            "    0    0    0    0    0    0    0    0    0    0    0    0    0    0\n",
            "    0    0    0    0    0    0    0    0    0    0    0    0    0    0\n",
            "    0    0    0    0    0    0    0    0    0    0    0    0    0    0\n",
            "    0    0    0    0    0    0    0    0    0    0    0    0    0    0\n",
            "    0    0    0    0    0    0    0    0    0    0    0    0    0    0\n",
            "    0    0    0    0    0    0    0    0    0    0    0    0    0    0\n",
            "    0    0    0    0    0    0    0    0    0    0    0    0    0    0\n",
            "    0    0    0    0    0    0    0    0    0    0    0    0    0    0\n",
            "    0    0    0    0    0    0    0    0    0    0    0    0    0    0\n",
            "    0    0    0    0    0    0    0    0    0    0    0    0    0    0\n",
            "    0    0    0    0    0    0    0    0    0    0    0    0    0    0\n",
            "    0    0    0    0    0    0    0    0    0    0    0    0    0    0\n",
            "    0    0    0    0    0    0    0    0    0    0    0    0    0    0\n",
            "    0    0    0    0    0]\n",
            "[27 25 30 23 36 22 22 41  0  0  0  0  0  0  0  0  0  0  0  0  0  0  0  0\n",
            "  0  0  0  0  0  0  0  0  0  0  0  0  0  0  0  0  0  0  0  0  0  0  0  0\n",
            "  0  0  0  0  0  0  0  0  0  0  0  0  0  0  0  0  0  0  0  0  0  0  0  0\n",
            "  0  0  0  0  0  0  0  0  0  0  0  0  0  0  0  0  0  0  0  0  0  0  0  0\n",
            "  0  0  0  0  0  0  0  0  0  0  0  0  0  0  0  0  0  0  0  0  0  0  0  0\n",
            "  0  0  0  0  0  0  0  0  0  0  0  0  0  0  0  0  0  0  0  0  0  0  0  0\n",
            "  0  0  0  0  0  0  0  0  0  0  0  0  0  0  0  0  0  0  0  0  0  0  0  0\n",
            "  0  0  0  0  0  0  0  0  0  0  0  0  0  0  0  0  0  0  0  0  0  0  0  0\n",
            "  0  0  0  0  0  0  0  0  0  0  0  0  0  0  0  0  0  0  0  0  0  0  0  0\n",
            "  0  0  0  0  0  0  0  0  0  0  0  0  0  0  0  0  0  0  0  0  0  0  0  0\n",
            "  0  0  0  0  0  0  0  0  0  0  0  0  0  0  0  0  0  0  0  0  0  0  0  0\n",
            "  0  0  0  0  0  0  0]\n",
            "[38 23 17 20 23 17 32 16  3 38 17 16 17 32 17 36 42 17 16 32 37 17 41  0\n",
            "  0  0  0  0  0  0  0  0  0  0  0  0  0  0  0  0  0  0  0  0  0  0  0  0\n",
            "  0  0  0  0  0  0  0  0  0  0  0  0  0  0  0  0  0  0  0  0  0  0  0  0\n",
            "  0  0  0  0  0  0  0  0  0  0  0  0  0  0  0  0  0  0  0  0  0  0  0  0\n",
            "  0  0  0  0  0  0  0  0  0  0  0  0  0  0  0  0  0  0  0  0  0  0  0  0\n",
            "  0  0  0  0  0  0  0  0  0  0  0  0  0  0  0  0  0  0  0  0  0  0  0  0\n",
            "  0  0  0  0  0  0  0  0  0  0  0  0  0  0  0  0  0  0  0  0  0  0  0  0\n",
            "  0  0  0  0  0  0  0  0  0  0  0  0  0  0  0  0  0  0  0  0  0  0  0  0\n",
            "  0  0  0  0  0  0  0  0  0  0  0  0  0  0  0  0  0  0  0  0  0  0  0  0\n",
            "  0  0  0  0  0  0  0  0  0  0  0  0  0  0  0  0  0  0  0  0  0  0  0  0\n",
            "  0  0  0  0  0  0  0  0  0  0  0  0  0  0  0  0  0  0  0  0  0  0  0  0\n",
            "  0  0  0  0  0  0  0]\n"
          ],
          "name": "stdout"
        }
      ]
    },
    {
      "metadata": {
        "slideshow": {
          "slide_type": "slide"
        },
        "id": "f0w8DzeQ22uj",
        "colab_type": "text"
      },
      "cell_type": "markdown",
      "source": [
        "We can now define the model. \n",
        "A simple approach to build a part-of-speech tagger in Keras is to stack a dense layer at the output of each RNN cell. This is achieved with `TimeDistributed`. Note  how the output of the model is now a list of sequences of vectors. Each vector will contain the probability of each tag. In particular:\n",
        "\n",
        "* We will introduce an embedding layer.\n",
        "* THe LSTM layer will have the parameter `return_sequences=True` so that we have access to the entire sequence.\n",
        "* The output of each LSTM cell will have a `Dense` layer. We can do this using the `TimeDistributed` layer."
      ]
    },
    {
      "metadata": {
        "slideshow": {
          "slide_type": "slide"
        },
        "id": "f6buON2e22ul",
        "colab_type": "code",
        "colab": {
          "base_uri": "https://localhost:8080/",
          "height": 361
        },
        "outputId": "99940122-e876-4f72-d0b5-dc16cc027bba"
      },
      "cell_type": "code",
      "source": [
        "from keras.models import Sequential\n",
        "from keras.layers import Dense, LSTM, InputLayer, TimeDistributed, Embedding, Activation\n",
        "from keras.optimizers import Adam\n",
        " \n",
        " \n",
        "model = Sequential()\n",
        "model.add(InputLayer(input_shape=(MAX_LENGTH, )))\n",
        "model.add(Embedding(len(word2index), 128))\n",
        "model.add(LSTM(256, return_sequences=True))\n",
        "model.add(TimeDistributed(Dense(len(tag2index))))\n",
        "model.add(Activation('softmax'))\n",
        " \n",
        "model.compile(loss='categorical_crossentropy',\n",
        "              optimizer=Adam(0.001),\n",
        "              metrics=['accuracy'])\n",
        " \n",
        "model.summary()"
      ],
      "execution_count": 10,
      "outputs": [
        {
          "output_type": "stream",
          "text": [
            "WARNING:tensorflow:From /usr/local/lib/python3.6/dist-packages/tensorflow/python/framework/op_def_library.py:263: colocate_with (from tensorflow.python.framework.ops) is deprecated and will be removed in a future version.\n",
            "Instructions for updating:\n",
            "Colocations handled automatically by placer.\n",
            "_________________________________________________________________\n",
            "Layer (type)                 Output Shape              Param #   \n",
            "=================================================================\n",
            "embedding_1 (Embedding)      (None, 271, 128)          1111424   \n",
            "_________________________________________________________________\n",
            "lstm_1 (LSTM)                (None, 271, 256)          394240    \n",
            "_________________________________________________________________\n",
            "time_distributed_1 (TimeDist (None, 271, 47)           12079     \n",
            "_________________________________________________________________\n",
            "activation_1 (Activation)    (None, 271, 47)           0         \n",
            "=================================================================\n",
            "Total params: 1,517,743\n",
            "Trainable params: 1,517,743\n",
            "Non-trainable params: 0\n",
            "_________________________________________________________________\n"
          ],
          "name": "stdout"
        }
      ]
    },
    {
      "metadata": {
        "slideshow": {
          "slide_type": "slide"
        },
        "id": "UeE6WfGH22ur",
        "colab_type": "text"
      },
      "cell_type": "markdown",
      "source": [
        "We also need to convert the labels into one-hot encoding. Since the input are sequences of labels we cannot use Keras' `to_categorical` so we define our own function:"
      ]
    },
    {
      "metadata": {
        "id": "bJTyy7hA22uu",
        "colab_type": "code",
        "colab": {}
      },
      "cell_type": "code",
      "source": [
        "def to_categorical(sequences, categories):\n",
        "    cat_sequences = []\n",
        "    for s in sequences:\n",
        "        cats = []\n",
        "        for item in s:\n",
        "            cats.append(np.zeros(categories))\n",
        "            cats[-1][item] = 1.0\n",
        "        cat_sequences.append(cats)\n",
        "    return np.array(cat_sequences)"
      ],
      "execution_count": 0,
      "outputs": []
    },
    {
      "metadata": {
        "id": "xWr3YL_S22uy",
        "colab_type": "code",
        "colab": {
          "base_uri": "https://localhost:8080/",
          "height": 143
        },
        "outputId": "bee1cb7b-dc17-4807-d744-f6d6fe9864cc"
      },
      "cell_type": "code",
      "source": [
        "cat_train_tags_y = to_categorical(train_tags_y, len(tag2index))\n",
        "print(cat_train_tags_y[0])"
      ],
      "execution_count": 12,
      "outputs": [
        {
          "output_type": "stream",
          "text": [
            "[[0. 0. 0. ... 0. 0. 0.]\n",
            " [0. 0. 0. ... 0. 0. 0.]\n",
            " [0. 0. 0. ... 0. 0. 0.]\n",
            " ...\n",
            " [1. 0. 0. ... 0. 0. 0.]\n",
            " [1. 0. 0. ... 0. 0. 0.]\n",
            " [1. 0. 0. ... 0. 0. 0.]]\n"
          ],
          "name": "stdout"
        }
      ]
    },
    {
      "metadata": {
        "slideshow": {
          "slide_type": "slide"
        },
        "id": "XLqIilKl22u5",
        "colab_type": "text"
      },
      "cell_type": "markdown",
      "source": [
        "We can finally train the model:"
      ]
    },
    {
      "metadata": {
        "id": "7pTh_pR922vA",
        "colab_type": "code",
        "colab": {
          "base_uri": "https://localhost:8080/",
          "height": 1603
        },
        "outputId": "26018680-4e29-4345-beb3-e66a0c768dd1"
      },
      "cell_type": "code",
      "source": [
        "history = model.fit(train_sentences_X, cat_train_tags_y, batch_size=128, epochs=40, validation_split=0.2)\n",
        " "
      ],
      "execution_count": 13,
      "outputs": [
        {
          "output_type": "stream",
          "text": [
            "WARNING:tensorflow:From /usr/local/lib/python3.6/dist-packages/tensorflow/python/ops/math_ops.py:3066: to_int32 (from tensorflow.python.ops.math_ops) is deprecated and will be removed in a future version.\n",
            "Instructions for updating:\n",
            "Use tf.cast instead.\n",
            "WARNING:tensorflow:From /usr/local/lib/python3.6/dist-packages/tensorflow/python/ops/math_grad.py:102: div (from tensorflow.python.ops.math_ops) is deprecated and will be removed in a future version.\n",
            "Instructions for updating:\n",
            "Deprecated in favor of operator or tf.math.divide.\n",
            "Train on 1878 samples, validate on 470 samples\n",
            "Epoch 1/40\n",
            "1878/1878 [==============================] - 12s 7ms/step - loss: 1.7536 - acc: 0.8438 - val_loss: 0.6165 - val_acc: 0.9036\n",
            "Epoch 2/40\n",
            "1878/1878 [==============================] - 9s 5ms/step - loss: 0.7007 - acc: 0.8763 - val_loss: 0.4678 - val_acc: 0.9037\n",
            "Epoch 3/40\n",
            "1878/1878 [==============================] - 9s 5ms/step - loss: 0.4189 - acc: 0.9056 - val_loss: 0.4092 - val_acc: 0.9043\n",
            "Epoch 4/40\n",
            "1878/1878 [==============================] - 9s 5ms/step - loss: 0.3900 - acc: 0.9061 - val_loss: 0.3853 - val_acc: 0.9040\n",
            "Epoch 5/40\n",
            "1878/1878 [==============================] - 9s 5ms/step - loss: 0.3726 - acc: 0.9062 - val_loss: 0.3740 - val_acc: 0.9041\n",
            "Epoch 6/40\n",
            "1878/1878 [==============================] - 9s 5ms/step - loss: 0.3576 - acc: 0.9062 - val_loss: 0.3672 - val_acc: 0.9041\n",
            "Epoch 7/40\n",
            "1878/1878 [==============================] - 9s 5ms/step - loss: 0.3452 - acc: 0.9065 - val_loss: 0.3512 - val_acc: 0.9056\n",
            "Epoch 8/40\n",
            "1878/1878 [==============================] - 9s 5ms/step - loss: 0.3332 - acc: 0.9083 - val_loss: 0.3409 - val_acc: 0.9087\n",
            "Epoch 9/40\n",
            "1878/1878 [==============================] - 9s 5ms/step - loss: 0.3249 - acc: 0.9108 - val_loss: 0.3390 - val_acc: 0.9101\n",
            "Epoch 10/40\n",
            "1878/1878 [==============================] - 9s 5ms/step - loss: 0.3317 - acc: 0.9136 - val_loss: 0.3490 - val_acc: 0.9130\n",
            "Epoch 11/40\n",
            "1878/1878 [==============================] - 9s 5ms/step - loss: 0.3250 - acc: 0.9131 - val_loss: 0.3213 - val_acc: 0.9126\n",
            "Epoch 12/40\n",
            "1878/1878 [==============================] - 9s 5ms/step - loss: 0.3124 - acc: 0.9150 - val_loss: 0.3152 - val_acc: 0.9138\n",
            "Epoch 13/40\n",
            "1878/1878 [==============================] - 9s 5ms/step - loss: 0.3054 - acc: 0.9153 - val_loss: 0.3095 - val_acc: 0.9145\n",
            "Epoch 14/40\n",
            "1878/1878 [==============================] - 9s 5ms/step - loss: 0.2996 - acc: 0.9165 - val_loss: 0.3061 - val_acc: 0.9170\n",
            "Epoch 15/40\n",
            "1878/1878 [==============================] - 9s 5ms/step - loss: 0.2947 - acc: 0.9187 - val_loss: 0.3021 - val_acc: 0.9182\n",
            "Epoch 16/40\n",
            "1878/1878 [==============================] - 9s 5ms/step - loss: 0.2906 - acc: 0.9197 - val_loss: 0.2990 - val_acc: 0.9188\n",
            "Epoch 17/40\n",
            "1878/1878 [==============================] - 9s 5ms/step - loss: 0.2873 - acc: 0.9202 - val_loss: 0.2966 - val_acc: 0.9192\n",
            "Epoch 18/40\n",
            "1878/1878 [==============================] - 9s 5ms/step - loss: 0.2847 - acc: 0.9205 - val_loss: 0.2946 - val_acc: 0.9194\n",
            "Epoch 19/40\n",
            "1878/1878 [==============================] - 9s 5ms/step - loss: 0.2824 - acc: 0.9208 - val_loss: 0.2931 - val_acc: 0.9198\n",
            "Epoch 20/40\n",
            "1878/1878 [==============================] - 9s 5ms/step - loss: 0.2805 - acc: 0.9216 - val_loss: 0.2913 - val_acc: 0.9206\n",
            "Epoch 21/40\n",
            "1878/1878 [==============================] - 9s 5ms/step - loss: 0.2785 - acc: 0.9220 - val_loss: 0.2896 - val_acc: 0.9209\n",
            "Epoch 22/40\n",
            "1878/1878 [==============================] - 9s 5ms/step - loss: 0.2767 - acc: 0.9222 - val_loss: 0.2893 - val_acc: 0.9211\n",
            "Epoch 23/40\n",
            "1878/1878 [==============================] - 9s 5ms/step - loss: 0.2747 - acc: 0.9225 - val_loss: 0.2876 - val_acc: 0.9215\n",
            "Epoch 24/40\n",
            "1878/1878 [==============================] - 9s 5ms/step - loss: 0.2725 - acc: 0.9228 - val_loss: 0.2862 - val_acc: 0.9218\n",
            "Epoch 25/40\n",
            "1878/1878 [==============================] - 9s 5ms/step - loss: 0.2701 - acc: 0.9232 - val_loss: 0.2852 - val_acc: 0.9228\n",
            "Epoch 26/40\n",
            "1878/1878 [==============================] - 9s 5ms/step - loss: 0.2673 - acc: 0.9243 - val_loss: 0.2815 - val_acc: 0.9240\n",
            "Epoch 27/40\n",
            "1878/1878 [==============================] - 9s 5ms/step - loss: 0.2639 - acc: 0.9264 - val_loss: 0.2787 - val_acc: 0.9257\n",
            "Epoch 28/40\n",
            "1878/1878 [==============================] - 9s 5ms/step - loss: 0.2598 - acc: 0.9289 - val_loss: 0.2759 - val_acc: 0.9270\n",
            "Epoch 29/40\n",
            "1878/1878 [==============================] - 9s 5ms/step - loss: 0.2545 - acc: 0.9327 - val_loss: 0.2697 - val_acc: 0.9313\n",
            "Epoch 30/40\n",
            "1878/1878 [==============================] - 9s 5ms/step - loss: 0.2481 - acc: 0.9375 - val_loss: 0.2632 - val_acc: 0.9367\n",
            "Epoch 31/40\n",
            "1878/1878 [==============================] - 9s 5ms/step - loss: 0.2395 - acc: 0.9423 - val_loss: 0.2559 - val_acc: 0.9406\n",
            "Epoch 32/40\n",
            "1878/1878 [==============================] - 9s 5ms/step - loss: 0.2295 - acc: 0.9454 - val_loss: 0.2427 - val_acc: 0.9443\n",
            "Epoch 33/40\n",
            "1878/1878 [==============================] - 9s 5ms/step - loss: 0.2169 - acc: 0.9488 - val_loss: 0.2300 - val_acc: 0.9463\n",
            "Epoch 34/40\n",
            "1878/1878 [==============================] - 9s 5ms/step - loss: 0.2037 - acc: 0.9521 - val_loss: 0.2152 - val_acc: 0.9492\n",
            "Epoch 35/40\n",
            "1878/1878 [==============================] - 9s 5ms/step - loss: 0.1893 - acc: 0.9551 - val_loss: 0.1996 - val_acc: 0.9527\n",
            "Epoch 36/40\n",
            "1878/1878 [==============================] - 9s 5ms/step - loss: 0.1741 - acc: 0.9588 - val_loss: 0.1862 - val_acc: 0.9550\n",
            "Epoch 37/40\n",
            "1878/1878 [==============================] - 9s 5ms/step - loss: 0.1598 - acc: 0.9620 - val_loss: 0.1735 - val_acc: 0.9583\n",
            "Epoch 38/40\n",
            "1878/1878 [==============================] - 9s 5ms/step - loss: 0.1468 - acc: 0.9652 - val_loss: 0.1617 - val_acc: 0.9614\n",
            "Epoch 39/40\n",
            "1878/1878 [==============================] - 9s 5ms/step - loss: 0.1346 - acc: 0.9687 - val_loss: 0.1518 - val_acc: 0.9639\n",
            "Epoch 40/40\n",
            "1878/1878 [==============================] - 9s 5ms/step - loss: 0.1233 - acc: 0.9717 - val_loss: 0.1413 - val_acc: 0.9670\n"
          ],
          "name": "stdout"
        }
      ]
    },
    {
      "metadata": {
        "slideshow": {
          "slide_type": "slide"
        },
        "id": "5zNVFn7W22vM",
        "colab_type": "text"
      },
      "cell_type": "markdown",
      "source": [
        "If the results look too good, it's because they are too good! We need to ignore the classification of the padded symbols, but let's leave it aside for now. Below is an evaluation using the test data."
      ]
    },
    {
      "metadata": {
        "id": "8YVnb9mv22vP",
        "colab_type": "code",
        "colab": {
          "base_uri": "https://localhost:8080/",
          "height": 53
        },
        "outputId": "02611832-919f-46cc-9793-86c485c619bc"
      },
      "cell_type": "code",
      "source": [
        "scores = model.evaluate(test_sentences_X, to_categorical(test_tags_y, len(tag2index)))\n",
        "print(f\"{model.metrics_names[1]}: {scores[1] * 100}\")"
      ],
      "execution_count": 14,
      "outputs": [
        {
          "output_type": "stream",
          "text": [
            "1566/1566 [==============================] - 11s 7ms/step\n",
            "acc: 96.76379513466496\n"
          ],
          "name": "stdout"
        }
      ]
    },
    {
      "metadata": {
        "slideshow": {
          "slide_type": "slide"
        },
        "id": "h197tLfl22vY",
        "colab_type": "text"
      },
      "cell_type": "markdown",
      "source": [
        "Let's find the PoS of two test sentences:"
      ]
    },
    {
      "metadata": {
        "id": "TJn9HsNN22va",
        "colab_type": "code",
        "colab": {
          "base_uri": "https://localhost:8080/",
          "height": 35
        },
        "outputId": "e8d5b956-5c89-4dbf-a6f0-8bdbc196d362"
      },
      "cell_type": "code",
      "source": [
        "test_samples = [\n",
        "    \"running is very important for me .\".split(),\n",
        "    \"I was running every day for a month .\".split()\n",
        "]\n",
        "print(test_samples)"
      ],
      "execution_count": 15,
      "outputs": [
        {
          "output_type": "stream",
          "text": [
            "[['running', 'is', 'very', 'important', 'for', 'me', '.'], ['I', 'was', 'running', 'every', 'day', 'for', 'a', 'month', '.']]\n"
          ],
          "name": "stdout"
        }
      ]
    },
    {
      "metadata": {
        "slideshow": {
          "slide_type": "slide"
        },
        "id": "NPD1nbGV22vf",
        "colab_type": "text"
      },
      "cell_type": "markdown",
      "source": [
        "These test sentences need to be vectorised:"
      ]
    },
    {
      "metadata": {
        "scrolled": true,
        "id": "DUSoAyOS22vg",
        "colab_type": "code",
        "colab": {
          "base_uri": "https://localhost:8080/",
          "height": 737
        },
        "outputId": "ea16b827-59e0-43f8-f7e3-1b7dc078e1e5"
      },
      "cell_type": "code",
      "source": [
        "test_samples_X = []\n",
        "for s in test_samples:\n",
        "    s_int = []\n",
        "    for w in s:\n",
        "        try:\n",
        "            s_int.append(word2index[w.lower()])\n",
        "        except KeyError:\n",
        "            s_int.append(word2index['-OOV-'])\n",
        "    test_samples_X.append(s_int)\n",
        " \n",
        "test_samples_X = pad_sequences(test_samples_X, maxlen=MAX_LENGTH, padding='post')\n",
        "print(test_samples_X)"
      ],
      "execution_count": 16,
      "outputs": [
        {
          "output_type": "stream",
          "text": [
            "[[3754 5970 4765 4048 4260 3809 2929    0    0    0    0    0    0    0\n",
            "     0    0    0    0    0    0    0    0    0    0    0    0    0    0\n",
            "     0    0    0    0    0    0    0    0    0    0    0    0    0    0\n",
            "     0    0    0    0    0    0    0    0    0    0    0    0    0    0\n",
            "     0    0    0    0    0    0    0    0    0    0    0    0    0    0\n",
            "     0    0    0    0    0    0    0    0    0    0    0    0    0    0\n",
            "     0    0    0    0    0    0    0    0    0    0    0    0    0    0\n",
            "     0    0    0    0    0    0    0    0    0    0    0    0    0    0\n",
            "     0    0    0    0    0    0    0    0    0    0    0    0    0    0\n",
            "     0    0    0    0    0    0    0    0    0    0    0    0    0    0\n",
            "     0    0    0    0    0    0    0    0    0    0    0    0    0    0\n",
            "     0    0    0    0    0    0    0    0    0    0    0    0    0    0\n",
            "     0    0    0    0    0    0    0    0    0    0    0    0    0    0\n",
            "     0    0    0    0    0    0    0    0    0    0    0    0    0    0\n",
            "     0    0    0    0    0    0    0    0    0    0    0    0    0    0\n",
            "     0    0    0    0    0    0    0    0    0    0    0    0    0    0\n",
            "     0    0    0    0    0    0    0    0    0    0    0    0    0    0\n",
            "     0    0    0    0    0    0    0    0    0    0    0    0    0    0\n",
            "     0    0    0    0    0    0    0    0    0    0    0    0    0    0\n",
            "     0    0    0    0    0]\n",
            " [5194 4604 3754 4107 3170 4260 7380 3109 2929    0    0    0    0    0\n",
            "     0    0    0    0    0    0    0    0    0    0    0    0    0    0\n",
            "     0    0    0    0    0    0    0    0    0    0    0    0    0    0\n",
            "     0    0    0    0    0    0    0    0    0    0    0    0    0    0\n",
            "     0    0    0    0    0    0    0    0    0    0    0    0    0    0\n",
            "     0    0    0    0    0    0    0    0    0    0    0    0    0    0\n",
            "     0    0    0    0    0    0    0    0    0    0    0    0    0    0\n",
            "     0    0    0    0    0    0    0    0    0    0    0    0    0    0\n",
            "     0    0    0    0    0    0    0    0    0    0    0    0    0    0\n",
            "     0    0    0    0    0    0    0    0    0    0    0    0    0    0\n",
            "     0    0    0    0    0    0    0    0    0    0    0    0    0    0\n",
            "     0    0    0    0    0    0    0    0    0    0    0    0    0    0\n",
            "     0    0    0    0    0    0    0    0    0    0    0    0    0    0\n",
            "     0    0    0    0    0    0    0    0    0    0    0    0    0    0\n",
            "     0    0    0    0    0    0    0    0    0    0    0    0    0    0\n",
            "     0    0    0    0    0    0    0    0    0    0    0    0    0    0\n",
            "     0    0    0    0    0    0    0    0    0    0    0    0    0    0\n",
            "     0    0    0    0    0    0    0    0    0    0    0    0    0    0\n",
            "     0    0    0    0    0    0    0    0    0    0    0    0    0    0\n",
            "     0    0    0    0    0]]\n"
          ],
          "name": "stdout"
        }
      ]
    },
    {
      "metadata": {
        "slideshow": {
          "slide_type": "slide"
        },
        "id": "Y6rLuQb322vl",
        "colab_type": "text"
      },
      "cell_type": "markdown",
      "source": [
        "And the predictions are ..."
      ]
    },
    {
      "metadata": {
        "scrolled": true,
        "id": "r5Qgjrq622vn",
        "colab_type": "code",
        "colab": {
          "base_uri": "https://localhost:8080/",
          "height": 503
        },
        "outputId": "e5ca507c-6efe-4aff-81b6-f26f55333085"
      },
      "cell_type": "code",
      "source": [
        "predictions = model.predict(test_samples_X)\n",
        "print(predictions, predictions.shape)"
      ],
      "execution_count": 17,
      "outputs": [
        {
          "output_type": "stream",
          "text": [
            "[[[2.91282479e-02 1.88667346e-02 1.89538840e-02 ... 1.99475978e-02\n",
            "   1.79031510e-02 1.74484272e-02]\n",
            "  [4.02032435e-02 1.36810364e-02 1.61603559e-02 ... 1.65906642e-02\n",
            "   1.41995354e-02 1.28826033e-02]\n",
            "  [2.85787806e-02 8.16254970e-03 1.41121214e-02 ... 1.23855462e-02\n",
            "   1.44241638e-02 6.86419895e-03]\n",
            "  ...\n",
            "  [9.99904513e-01 5.17404248e-14 1.22004394e-11 ... 1.90587433e-12\n",
            "   2.80383762e-14 7.35508795e-14]\n",
            "  [9.99904513e-01 5.17822852e-14 1.22030224e-11 ... 1.90607794e-12\n",
            "   2.80099396e-14 7.35358700e-14]\n",
            "  [9.99904633e-01 5.18243793e-14 1.22056072e-11 ... 1.90628893e-12\n",
            "   2.79813743e-14 7.35205828e-14]]\n",
            "\n",
            " [[2.80413087e-02 1.51930703e-02 1.81705691e-02 ... 1.76218972e-02\n",
            "   1.74059626e-02 1.45811960e-02]\n",
            "  [3.12418342e-02 9.50537995e-03 1.50221204e-02 ... 1.29120313e-02\n",
            "   1.52053805e-02 8.47656094e-03]\n",
            "  [3.91318537e-02 7.02448050e-03 1.37202442e-02 ... 1.28371343e-02\n",
            "   1.30154779e-02 5.18636452e-03]\n",
            "  ...\n",
            "  [9.99900579e-01 7.95620351e-14 1.56737418e-11 ... 2.54195926e-12\n",
            "   2.53709831e-14 6.52491434e-14]\n",
            "  [9.99900341e-01 8.02236627e-14 1.57929034e-11 ... 2.56808420e-12\n",
            "   2.55599171e-14 6.50859236e-14]\n",
            "  [9.99899983e-01 8.08812178e-14 1.59118448e-11 ... 2.59423971e-12\n",
            "   2.57507011e-14 6.49258343e-14]]] (2, 271, 47)\n"
          ],
          "name": "stdout"
        }
      ]
    },
    {
      "metadata": {
        "slideshow": {
          "slide_type": "slide"
        },
        "id": "hYyJkHb_22vt",
        "colab_type": "text"
      },
      "cell_type": "markdown",
      "source": [
        "These predictions show, for each word, the probabilities assigned to each possible label. Let's choose the label with the highest probability (using numpy's `argmax`) and then convert from label index to label:"
      ]
    },
    {
      "metadata": {
        "id": "s1EEpd2K22vv",
        "colab_type": "code",
        "colab": {}
      },
      "cell_type": "code",
      "source": [
        "def logits_to_tokens(sequences, index):\n",
        "    token_sequences = []\n",
        "    for categorical_sequence in sequences:\n",
        "        token_sequence = []\n",
        "        for categorical in categorical_sequence:\n",
        "            token_sequence.append(index[np.argmax(categorical)])\n",
        " \n",
        "        token_sequences.append(token_sequence)\n",
        " \n",
        "    return token_sequences"
      ],
      "execution_count": 0,
      "outputs": []
    },
    {
      "metadata": {
        "scrolled": true,
        "id": "P-vgNHpt22vz",
        "colab_type": "code",
        "colab": {
          "base_uri": "https://localhost:8080/",
          "height": 55
        },
        "outputId": "5b4378f9-3b0d-4379-a001-a7b62784bd9a"
      },
      "cell_type": "code",
      "source": [
        "print(logits_to_tokens(predictions, {i: t for t, i in tag2index.items()}))"
      ],
      "execution_count": 19,
      "outputs": [
        {
          "output_type": "stream",
          "text": [
            "[['CD', '-PAD-', ',', 'DT', 'IN', 'NNS', '.', '-PAD-', '-PAD-', '-PAD-', '-PAD-', '-PAD-', '-PAD-', '-PAD-', '-PAD-', '-PAD-', '-PAD-', '-PAD-', '-PAD-', '-PAD-', '-PAD-', '-PAD-', '-PAD-', '-PAD-', '-PAD-', '-PAD-', '-PAD-', '-PAD-', '-PAD-', '-PAD-', '-PAD-', '-PAD-', '-PAD-', '-PAD-', '-PAD-', '-PAD-', '-PAD-', '-PAD-', '-PAD-', '-PAD-', '-PAD-', '-PAD-', '-PAD-', '-PAD-', '-PAD-', '-PAD-', '-PAD-', '-PAD-', '-PAD-', '-PAD-', '-PAD-', '-PAD-', '-PAD-', '-PAD-', '-PAD-', '-PAD-', '-PAD-', '-PAD-', '-PAD-', '-PAD-', '-PAD-', '-PAD-', '-PAD-', '-PAD-', '-PAD-', '-PAD-', '-PAD-', '-PAD-', '-PAD-', '-PAD-', '-PAD-', '-PAD-', '-PAD-', '-PAD-', '-PAD-', '-PAD-', '-PAD-', '-PAD-', '-PAD-', '-PAD-', '-PAD-', '-PAD-', '-PAD-', '-PAD-', '-PAD-', '-PAD-', '-PAD-', '-PAD-', '-PAD-', '-PAD-', '-PAD-', '-PAD-', '-PAD-', '-PAD-', '-PAD-', '-PAD-', '-PAD-', '-PAD-', '-PAD-', '-PAD-', '-PAD-', '-PAD-', '-PAD-', '-PAD-', '-PAD-', '-PAD-', '-PAD-', '-PAD-', '-PAD-', '-PAD-', '-PAD-', '-PAD-', '-PAD-', '-PAD-', '-PAD-', '-PAD-', '-PAD-', '-PAD-', '-PAD-', '-PAD-', '-PAD-', '-PAD-', '-PAD-', '-PAD-', '-PAD-', '-PAD-', '-PAD-', '-PAD-', '-PAD-', '-PAD-', '-PAD-', '-PAD-', '-PAD-', '-PAD-', '-PAD-', '-PAD-', '-PAD-', '-PAD-', '-PAD-', '-PAD-', '-PAD-', '-PAD-', '-PAD-', '-PAD-', '-PAD-', '-PAD-', '-PAD-', '-PAD-', '-PAD-', '-PAD-', '-PAD-', '-PAD-', '-PAD-', '-PAD-', '-PAD-', '-PAD-', '-PAD-', '-PAD-', '-PAD-', '-PAD-', '-PAD-', '-PAD-', '-PAD-', '-PAD-', '-PAD-', '-PAD-', '-PAD-', '-PAD-', '-PAD-', '-PAD-', '-PAD-', '-PAD-', '-PAD-', '-PAD-', '-PAD-', '-PAD-', '-PAD-', '-PAD-', '-PAD-', '-PAD-', '-PAD-', '-PAD-', '-PAD-', '-PAD-', '-PAD-', '-PAD-', '-PAD-', '-PAD-', '-PAD-', '-PAD-', '-PAD-', '-PAD-', '-PAD-', '-PAD-', '-PAD-', '-PAD-', '-PAD-', '-PAD-', '-PAD-', '-PAD-', '-PAD-', '-PAD-', '-PAD-', '-PAD-', '-PAD-', '-PAD-', '-PAD-', '-PAD-', '-PAD-', '-PAD-', '-PAD-', '-PAD-', '-PAD-', '-PAD-', '-PAD-', '-PAD-', '-PAD-', '-PAD-', '-PAD-', '-PAD-', '-PAD-', '-PAD-', '-PAD-', '-PAD-', '-PAD-', '-PAD-', '-PAD-', '-PAD-', '-PAD-', '-PAD-', '-PAD-', '-PAD-', '-PAD-', '-PAD-', '-PAD-', '-PAD-', '-PAD-', '-PAD-', '-PAD-', '-PAD-', '-PAD-', '-PAD-', '-PAD-', '-PAD-', '-PAD-', '-PAD-', '-PAD-', '-PAD-', '-PAD-', '-PAD-', '-PAD-', '-PAD-', '-PAD-', '-PAD-', '-PAD-', '-PAD-', '-PAD-', '-PAD-', '-PAD-', '-PAD-', '-PAD-', '-PAD-', '-PAD-', '-PAD-', '-PAD-', '-PAD-', '-PAD-', '-PAD-', '-PAD-', '-PAD-', '-PAD-'], ['NNP', ',', 'NNP', 'DT', 'NN', 'IN', 'DT', 'NN', '.', '-PAD-', '-PAD-', '-PAD-', '-PAD-', '-PAD-', '-PAD-', '-PAD-', '-PAD-', '-PAD-', '-PAD-', '-PAD-', '-PAD-', '-PAD-', '-PAD-', '-PAD-', '-PAD-', '-PAD-', '-PAD-', '-PAD-', '-PAD-', '-PAD-', '-PAD-', '-PAD-', '-PAD-', '-PAD-', '-PAD-', '-PAD-', '-PAD-', '-PAD-', '-PAD-', '-PAD-', '-PAD-', '-PAD-', '-PAD-', '-PAD-', '-PAD-', '-PAD-', '-PAD-', '-PAD-', '-PAD-', '-PAD-', '-PAD-', '-PAD-', '-PAD-', '-PAD-', '-PAD-', '-PAD-', '-PAD-', '-PAD-', '-PAD-', '-PAD-', '-PAD-', '-PAD-', '-PAD-', '-PAD-', '-PAD-', '-PAD-', '-PAD-', '-PAD-', '-PAD-', '-PAD-', '-PAD-', '-PAD-', '-PAD-', '-PAD-', '-PAD-', '-PAD-', '-PAD-', '-PAD-', '-PAD-', '-PAD-', '-PAD-', '-PAD-', '-PAD-', '-PAD-', '-PAD-', '-PAD-', '-PAD-', '-PAD-', '-PAD-', '-PAD-', '-PAD-', '-PAD-', '-PAD-', '-PAD-', '-PAD-', '-PAD-', '-PAD-', '-PAD-', '-PAD-', '-PAD-', '-PAD-', '-PAD-', '-PAD-', '-PAD-', '-PAD-', '-PAD-', '-PAD-', '-PAD-', '-PAD-', '-PAD-', '-PAD-', '-PAD-', '-PAD-', '-PAD-', '-PAD-', '-PAD-', '-PAD-', '-PAD-', '-PAD-', '-PAD-', '-PAD-', '-PAD-', '-PAD-', '-PAD-', '-PAD-', '-PAD-', '-PAD-', '-PAD-', '-PAD-', '-PAD-', '-PAD-', '-PAD-', '-PAD-', '-PAD-', '-PAD-', '-PAD-', '-PAD-', '-PAD-', '-PAD-', '-PAD-', '-PAD-', '-PAD-', '-PAD-', '-PAD-', '-PAD-', '-PAD-', '-PAD-', '-PAD-', '-PAD-', '-PAD-', '-PAD-', '-PAD-', '-PAD-', '-PAD-', '-PAD-', '-PAD-', '-PAD-', '-PAD-', '-PAD-', '-PAD-', '-PAD-', '-PAD-', '-PAD-', '-PAD-', '-PAD-', '-PAD-', '-PAD-', '-PAD-', '-PAD-', '-PAD-', '-PAD-', '-PAD-', '-PAD-', '-PAD-', '-PAD-', '-PAD-', '-PAD-', '-PAD-', '-PAD-', '-PAD-', '-PAD-', '-PAD-', '-PAD-', '-PAD-', '-PAD-', '-PAD-', '-PAD-', '-PAD-', '-PAD-', '-PAD-', '-PAD-', '-PAD-', '-PAD-', '-PAD-', '-PAD-', '-PAD-', '-PAD-', '-PAD-', '-PAD-', '-PAD-', '-PAD-', '-PAD-', '-PAD-', '-PAD-', '-PAD-', '-PAD-', '-PAD-', '-PAD-', '-PAD-', '-PAD-', '-PAD-', '-PAD-', '-PAD-', '-PAD-', '-PAD-', '-PAD-', '-PAD-', '-PAD-', '-PAD-', '-PAD-', '-PAD-', '-PAD-', '-PAD-', '-PAD-', '-PAD-', '-PAD-', '-PAD-', '-PAD-', '-PAD-', '-PAD-', '-PAD-', '-PAD-', '-PAD-', '-PAD-', '-PAD-', '-PAD-', '-PAD-', '-PAD-', '-PAD-', '-PAD-', '-PAD-', '-PAD-', '-PAD-', '-PAD-', '-PAD-', '-PAD-', '-PAD-', '-PAD-', '-PAD-', '-PAD-', '-PAD-', '-PAD-', '-PAD-', '-PAD-', '-PAD-', '-PAD-', '-PAD-', '-PAD-', '-PAD-', '-PAD-', '-PAD-', '-PAD-', '-PAD-', '-PAD-', '-PAD-', '-PAD-', '-PAD-', '-PAD-', '-PAD-', '-PAD-', '-PAD-']]\n"
          ],
          "name": "stdout"
        }
      ]
    },
    {
      "metadata": {
        "slideshow": {
          "slide_type": "slide"
        },
        "id": "xUAVFac_22v6",
        "colab_type": "text"
      },
      "cell_type": "markdown",
      "source": [
        "As expected, the padding symbol is over-used. To solve this problem we can define a custom accuracy metric that ignores the paddings. Remember that the index for the padding symbol is 0:"
      ]
    },
    {
      "metadata": {
        "id": "htLSFx1722v8",
        "colab_type": "code",
        "colab": {}
      },
      "cell_type": "code",
      "source": [
        "from keras import backend as K\n",
        " \n",
        "def ignore_class_accuracy(to_ignore=0):\n",
        "    def ignore_accuracy(y_true, y_pred):\n",
        "        y_true_class = K.argmax(y_true, axis=-1)\n",
        "        y_pred_class = K.argmax(y_pred, axis=-1)\n",
        " \n",
        "        ignore_mask = K.cast(K.not_equal(y_pred_class, to_ignore), 'int32')\n",
        "        matches = K.cast(K.equal(y_true_class, y_pred_class), 'int32') * ignore_mask\n",
        "        accuracy = K.sum(matches) / K.maximum(K.sum(ignore_mask), 1)\n",
        "        return accuracy\n",
        "    return ignore_accuracy"
      ],
      "execution_count": 0,
      "outputs": []
    },
    {
      "metadata": {
        "slideshow": {
          "slide_type": "slide"
        },
        "id": "owboYAh022v_",
        "colab_type": "text"
      },
      "cell_type": "markdown",
      "source": [
        "Let's now retrain using this new accuracy metric:"
      ]
    },
    {
      "metadata": {
        "id": "Adx9EbTB22wC",
        "colab_type": "code",
        "colab": {
          "base_uri": "https://localhost:8080/",
          "height": 287
        },
        "outputId": "f3e68b68-3642-4a7c-e4d7-a66d27f09c09"
      },
      "cell_type": "code",
      "source": [
        "from keras.models import Sequential\n",
        "from keras.layers import Dense, LSTM, InputLayer, TimeDistributed, Embedding, Activation\n",
        "from keras.optimizers import Adam\n",
        " \n",
        " \n",
        "model = Sequential()\n",
        "model.add(InputLayer(input_shape=(MAX_LENGTH, )))\n",
        "model.add(Embedding(len(word2index), 128))\n",
        "model.add(LSTM(256, return_sequences=True))\n",
        "model.add(TimeDistributed(Dense(len(tag2index))))\n",
        "model.add(Activation('softmax'))\n",
        " \n",
        "model.compile(loss='categorical_crossentropy',\n",
        "              optimizer=Adam(0.001),\n",
        "              metrics=['accuracy', ignore_class_accuracy(0)])\n",
        " \n",
        "model.summary()"
      ],
      "execution_count": 21,
      "outputs": [
        {
          "output_type": "stream",
          "text": [
            "_________________________________________________________________\n",
            "Layer (type)                 Output Shape              Param #   \n",
            "=================================================================\n",
            "embedding_2 (Embedding)      (None, 271, 128)          1111424   \n",
            "_________________________________________________________________\n",
            "lstm_2 (LSTM)                (None, 271, 256)          394240    \n",
            "_________________________________________________________________\n",
            "time_distributed_2 (TimeDist (None, 271, 47)           12079     \n",
            "_________________________________________________________________\n",
            "activation_2 (Activation)    (None, 271, 47)           0         \n",
            "=================================================================\n",
            "Total params: 1,517,743\n",
            "Trainable params: 1,517,743\n",
            "Non-trainable params: 0\n",
            "_________________________________________________________________\n"
          ],
          "name": "stdout"
        }
      ]
    },
    {
      "metadata": {
        "slideshow": {
          "slide_type": "slide"
        },
        "id": "vglktjZL22wI",
        "colab_type": "code",
        "colab": {
          "base_uri": "https://localhost:8080/",
          "height": 3655
        },
        "outputId": "d412e4e8-7f1b-41c3-ff60-babe36a72e6e"
      },
      "cell_type": "code",
      "source": [
        "from keras.callbacks import EarlyStopping\n",
        "history = model.fit(train_sentences_X, cat_train_tags_y, batch_size=128, epochs=100, validation_split=0.2) #,\n",
        "#                    callbacks=[EarlyStopping(monitor='val_ignore_accuracy')])"
      ],
      "execution_count": 22,
      "outputs": [
        {
          "output_type": "stream",
          "text": [
            "Train on 1878 samples, validate on 470 samples\n",
            "Epoch 1/100\n",
            "1878/1878 [==============================] - 10s 5ms/step - loss: 1.7742 - acc: 0.8438 - ignore_accuracy: 0.0110 - val_loss: 0.6140 - val_acc: 0.9036 - val_ignore_accuracy: 0.0000e+00\n",
            "Epoch 2/100\n",
            "1878/1878 [==============================] - 9s 5ms/step - loss: 0.6275 - acc: 0.8870 - ignore_accuracy: 0.0494 - val_loss: 0.4716 - val_acc: 0.9036 - val_ignore_accuracy: 0.0663\n",
            "Epoch 3/100\n",
            "1878/1878 [==============================] - 9s 5ms/step - loss: 0.4263 - acc: 0.9055 - ignore_accuracy: 0.1279 - val_loss: 0.4114 - val_acc: 0.9040 - val_ignore_accuracy: 0.1249\n",
            "Epoch 4/100\n",
            "1878/1878 [==============================] - 9s 5ms/step - loss: 0.3923 - acc: 0.9059 - ignore_accuracy: 0.1154 - val_loss: 0.3885 - val_acc: 0.9039 - val_ignore_accuracy: 0.1071\n",
            "Epoch 5/100\n",
            "1878/1878 [==============================] - 9s 5ms/step - loss: 0.3714 - acc: 0.9061 - ignore_accuracy: 0.1194 - val_loss: 0.3821 - val_acc: 0.9039 - val_ignore_accuracy: 0.0921\n",
            "Epoch 6/100\n",
            "1878/1878 [==============================] - 9s 5ms/step - loss: 0.3562 - acc: 0.9063 - ignore_accuracy: 0.1150 - val_loss: 0.3603 - val_acc: 0.9062 - val_ignore_accuracy: 0.1356\n",
            "Epoch 7/100\n",
            "1878/1878 [==============================] - 9s 5ms/step - loss: 0.3448 - acc: 0.9077 - ignore_accuracy: 0.1242 - val_loss: 0.3555 - val_acc: 0.9057 - val_ignore_accuracy: 0.1292\n",
            "Epoch 8/100\n",
            "1878/1878 [==============================] - 9s 5ms/step - loss: 0.3347 - acc: 0.9095 - ignore_accuracy: 0.1297 - val_loss: 0.3445 - val_acc: 0.9069 - val_ignore_accuracy: 0.1313\n",
            "Epoch 9/100\n",
            "1878/1878 [==============================] - 9s 5ms/step - loss: 0.3265 - acc: 0.9099 - ignore_accuracy: 0.1261 - val_loss: 0.3337 - val_acc: 0.9101 - val_ignore_accuracy: 0.1367\n",
            "Epoch 10/100\n",
            "1878/1878 [==============================] - 9s 5ms/step - loss: 0.3197 - acc: 0.9123 - ignore_accuracy: 0.1310 - val_loss: 0.3302 - val_acc: 0.9120 - val_ignore_accuracy: 0.1389\n",
            "Epoch 11/100\n",
            "1878/1878 [==============================] - 9s 5ms/step - loss: 0.3138 - acc: 0.9141 - ignore_accuracy: 0.1333 - val_loss: 0.3331 - val_acc: 0.9126 - val_ignore_accuracy: 0.1388\n",
            "Epoch 12/100\n",
            "1878/1878 [==============================] - 9s 5ms/step - loss: 0.3081 - acc: 0.9150 - ignore_accuracy: 0.1352 - val_loss: 0.3328 - val_acc: 0.9140 - val_ignore_accuracy: 0.1477\n",
            "Epoch 13/100\n",
            "1878/1878 [==============================] - 9s 5ms/step - loss: 0.3258 - acc: 0.9155 - ignore_accuracy: 0.1389 - val_loss: 0.3129 - val_acc: 0.9148 - val_ignore_accuracy: 0.1482\n",
            "Epoch 14/100\n",
            "1878/1878 [==============================] - 9s 5ms/step - loss: 0.3027 - acc: 0.9160 - ignore_accuracy: 0.1416 - val_loss: 0.3074 - val_acc: 0.9170 - val_ignore_accuracy: 0.1648\n",
            "Epoch 15/100\n",
            "1878/1878 [==============================] - 9s 5ms/step - loss: 0.2977 - acc: 0.9183 - ignore_accuracy: 0.1614 - val_loss: 0.3037 - val_acc: 0.9179 - val_ignore_accuracy: 0.1723\n",
            "Epoch 16/100\n",
            "1878/1878 [==============================] - 9s 5ms/step - loss: 0.2933 - acc: 0.9191 - ignore_accuracy: 0.1669 - val_loss: 0.3005 - val_acc: 0.9184 - val_ignore_accuracy: 0.1736\n",
            "Epoch 17/100\n",
            "1878/1878 [==============================] - 9s 5ms/step - loss: 0.2898 - acc: 0.9198 - ignore_accuracy: 0.1698 - val_loss: 0.2983 - val_acc: 0.9189 - val_ignore_accuracy: 0.1750\n",
            "Epoch 18/100\n",
            "1878/1878 [==============================] - 9s 5ms/step - loss: 0.2870 - acc: 0.9202 - ignore_accuracy: 0.1709 - val_loss: 0.2964 - val_acc: 0.9192 - val_ignore_accuracy: 0.1754\n",
            "Epoch 19/100\n",
            "1878/1878 [==============================] - 9s 5ms/step - loss: 0.2846 - acc: 0.9205 - ignore_accuracy: 0.1722 - val_loss: 0.2946 - val_acc: 0.9195 - val_ignore_accuracy: 0.1762\n",
            "Epoch 20/100\n",
            "1878/1878 [==============================] - 9s 5ms/step - loss: 0.2825 - acc: 0.9208 - ignore_accuracy: 0.1732 - val_loss: 0.2933 - val_acc: 0.9197 - val_ignore_accuracy: 0.1772\n",
            "Epoch 21/100\n",
            "1878/1878 [==============================] - 9s 5ms/step - loss: 0.2805 - acc: 0.9211 - ignore_accuracy: 0.1753 - val_loss: 0.2920 - val_acc: 0.9199 - val_ignore_accuracy: 0.1780\n",
            "Epoch 22/100\n",
            "1878/1878 [==============================] - 9s 5ms/step - loss: 0.2786 - acc: 0.9213 - ignore_accuracy: 0.1757 - val_loss: 0.2903 - val_acc: 0.9202 - val_ignore_accuracy: 0.1801\n",
            "Epoch 23/100\n",
            "1878/1878 [==============================] - 9s 5ms/step - loss: 0.2767 - acc: 0.9218 - ignore_accuracy: 0.1808 - val_loss: 0.2908 - val_acc: 0.9204 - val_ignore_accuracy: 0.1818\n",
            "Epoch 24/100\n",
            "1878/1878 [==============================] - 9s 5ms/step - loss: 0.2746 - acc: 0.9225 - ignore_accuracy: 0.1880 - val_loss: 0.2881 - val_acc: 0.9214 - val_ignore_accuracy: 0.1920\n",
            "Epoch 25/100\n",
            "1878/1878 [==============================] - 9s 5ms/step - loss: 0.2724 - acc: 0.9239 - ignore_accuracy: 0.2026 - val_loss: 0.2862 - val_acc: 0.9228 - val_ignore_accuracy: 0.2056\n",
            "Epoch 26/100\n",
            "1878/1878 [==============================] - 9s 5ms/step - loss: 0.2699 - acc: 0.9248 - ignore_accuracy: 0.2110 - val_loss: 0.2839 - val_acc: 0.9238 - val_ignore_accuracy: 0.2155\n",
            "Epoch 27/100\n",
            "1878/1878 [==============================] - 9s 5ms/step - loss: 0.2670 - acc: 0.9266 - ignore_accuracy: 0.2298 - val_loss: 0.2812 - val_acc: 0.9269 - val_ignore_accuracy: 0.2475\n",
            "Epoch 28/100\n",
            "1878/1878 [==============================] - 9s 5ms/step - loss: 0.2633 - acc: 0.9290 - ignore_accuracy: 0.2560 - val_loss: 0.2790 - val_acc: 0.9279 - val_ignore_accuracy: 0.2582\n",
            "Epoch 29/100\n",
            "1878/1878 [==============================] - 9s 5ms/step - loss: 0.2588 - acc: 0.9315 - ignore_accuracy: 0.2815 - val_loss: 0.2742 - val_acc: 0.9316 - val_ignore_accuracy: 0.2969\n",
            "Epoch 30/100\n",
            "1878/1878 [==============================] - 9s 5ms/step - loss: 0.2531 - acc: 0.9349 - ignore_accuracy: 0.3176 - val_loss: 0.2679 - val_acc: 0.9342 - val_ignore_accuracy: 0.3233\n",
            "Epoch 31/100\n",
            "1878/1878 [==============================] - 9s 5ms/step - loss: 0.2460 - acc: 0.9381 - ignore_accuracy: 0.3519 - val_loss: 0.2610 - val_acc: 0.9395 - val_ignore_accuracy: 0.3778\n",
            "Epoch 32/100\n",
            "1878/1878 [==============================] - 9s 5ms/step - loss: 0.2372 - acc: 0.9428 - ignore_accuracy: 0.4017 - val_loss: 0.2540 - val_acc: 0.9400 - val_ignore_accuracy: 0.3835\n",
            "Epoch 33/100\n",
            "1878/1878 [==============================] - 9s 5ms/step - loss: 0.2262 - acc: 0.9469 - ignore_accuracy: 0.4443 - val_loss: 0.2382 - val_acc: 0.9469 - val_ignore_accuracy: 0.4551\n",
            "Epoch 34/100\n",
            "1878/1878 [==============================] - 9s 5ms/step - loss: 0.2132 - acc: 0.9512 - ignore_accuracy: 0.4892 - val_loss: 0.2284 - val_acc: 0.9483 - val_ignore_accuracy: 0.4697\n",
            "Epoch 35/100\n",
            "1878/1878 [==============================] - 9s 5ms/step - loss: 0.1992 - acc: 0.9547 - ignore_accuracy: 0.5259 - val_loss: 0.2120 - val_acc: 0.9523 - val_ignore_accuracy: 0.5115\n",
            "Epoch 36/100\n",
            "1878/1878 [==============================] - 9s 5ms/step - loss: 0.1846 - acc: 0.9578 - ignore_accuracy: 0.5582 - val_loss: 0.1961 - val_acc: 0.9557 - val_ignore_accuracy: 0.5459\n",
            "Epoch 37/100\n",
            "1878/1878 [==============================] - 9s 5ms/step - loss: 0.1704 - acc: 0.9607 - ignore_accuracy: 0.5888 - val_loss: 0.1844 - val_acc: 0.9573 - val_ignore_accuracy: 0.5635\n",
            "Epoch 38/100\n",
            "1878/1878 [==============================] - 9s 5ms/step - loss: 0.1572 - acc: 0.9634 - ignore_accuracy: 0.6174 - val_loss: 0.1739 - val_acc: 0.9589 - val_ignore_accuracy: 0.5798\n",
            "Epoch 39/100\n",
            "1878/1878 [==============================] - 9s 5ms/step - loss: 0.1452 - acc: 0.9663 - ignore_accuracy: 0.6470 - val_loss: 0.1599 - val_acc: 0.9629 - val_ignore_accuracy: 0.6213\n",
            "Epoch 40/100\n",
            "1878/1878 [==============================] - 9s 5ms/step - loss: 0.1335 - acc: 0.9695 - ignore_accuracy: 0.6815 - val_loss: 0.1492 - val_acc: 0.9654 - val_ignore_accuracy: 0.6476\n",
            "Epoch 41/100\n",
            "1878/1878 [==============================] - 9s 5ms/step - loss: 0.1225 - acc: 0.9726 - ignore_accuracy: 0.7135 - val_loss: 0.1396 - val_acc: 0.9675 - val_ignore_accuracy: 0.6692\n",
            "Epoch 42/100\n",
            "1878/1878 [==============================] - 9s 5ms/step - loss: 0.1124 - acc: 0.9753 - ignore_accuracy: 0.7417 - val_loss: 0.1303 - val_acc: 0.9708 - val_ignore_accuracy: 0.7026\n",
            "Epoch 43/100\n",
            "1878/1878 [==============================] - 9s 5ms/step - loss: 0.1027 - acc: 0.9782 - ignore_accuracy: 0.7716 - val_loss: 0.1206 - val_acc: 0.9734 - val_ignore_accuracy: 0.7289\n",
            "Epoch 44/100\n",
            "1878/1878 [==============================] - 9s 5ms/step - loss: 0.0938 - acc: 0.9805 - ignore_accuracy: 0.7964 - val_loss: 0.1128 - val_acc: 0.9752 - val_ignore_accuracy: 0.7469\n",
            "Epoch 45/100\n",
            "1878/1878 [==============================] - 9s 5ms/step - loss: 0.0854 - acc: 0.9826 - ignore_accuracy: 0.8188 - val_loss: 0.1056 - val_acc: 0.9772 - val_ignore_accuracy: 0.7666\n",
            "Epoch 46/100\n",
            "1878/1878 [==============================] - 9s 5ms/step - loss: 0.0779 - acc: 0.9845 - ignore_accuracy: 0.8381 - val_loss: 0.0995 - val_acc: 0.9783 - val_ignore_accuracy: 0.7787\n",
            "Epoch 47/100\n",
            "1878/1878 [==============================] - 9s 5ms/step - loss: 0.0711 - acc: 0.9862 - ignore_accuracy: 0.8559 - val_loss: 0.0927 - val_acc: 0.9802 - val_ignore_accuracy: 0.7972\n",
            "Epoch 48/100\n",
            "1878/1878 [==============================] - 9s 5ms/step - loss: 0.0647 - acc: 0.9879 - ignore_accuracy: 0.8724 - val_loss: 0.0876 - val_acc: 0.9815 - val_ignore_accuracy: 0.8103\n",
            "Epoch 49/100\n",
            "1878/1878 [==============================] - 9s 5ms/step - loss: 0.0588 - acc: 0.9892 - ignore_accuracy: 0.8864 - val_loss: 0.0827 - val_acc: 0.9825 - val_ignore_accuracy: 0.8205\n",
            "Epoch 50/100\n",
            "1878/1878 [==============================] - 9s 5ms/step - loss: 0.0536 - acc: 0.9904 - ignore_accuracy: 0.8991 - val_loss: 0.0785 - val_acc: 0.9835 - val_ignore_accuracy: 0.8309\n",
            "Epoch 51/100\n",
            "1878/1878 [==============================] - 9s 5ms/step - loss: 0.0491 - acc: 0.9913 - ignore_accuracy: 0.9085 - val_loss: 0.0745 - val_acc: 0.9843 - val_ignore_accuracy: 0.8381\n",
            "Epoch 52/100\n",
            "1878/1878 [==============================] - 9s 5ms/step - loss: 0.0450 - acc: 0.9921 - ignore_accuracy: 0.9165 - val_loss: 0.0711 - val_acc: 0.9849 - val_ignore_accuracy: 0.8444\n",
            "Epoch 53/100\n",
            "1878/1878 [==============================] - 9s 5ms/step - loss: 0.0414 - acc: 0.9927 - ignore_accuracy: 0.9229 - val_loss: 0.0682 - val_acc: 0.9854 - val_ignore_accuracy: 0.8502\n",
            "Epoch 54/100\n",
            "1878/1878 [==============================] - 9s 5ms/step - loss: 0.0382 - acc: 0.9932 - ignore_accuracy: 0.9284 - val_loss: 0.0658 - val_acc: 0.9858 - val_ignore_accuracy: 0.8541\n",
            "Epoch 55/100\n",
            "1878/1878 [==============================] - 9s 5ms/step - loss: 0.0354 - acc: 0.9937 - ignore_accuracy: 0.9338 - val_loss: 0.0637 - val_acc: 0.9861 - val_ignore_accuracy: 0.8572\n",
            "Epoch 56/100\n",
            "1878/1878 [==============================] - 9s 5ms/step - loss: 0.0329 - acc: 0.9941 - ignore_accuracy: 0.9385 - val_loss: 0.0617 - val_acc: 0.9865 - val_ignore_accuracy: 0.8605\n",
            "Epoch 57/100\n",
            "1878/1878 [==============================] - 9s 5ms/step - loss: 0.0307 - acc: 0.9945 - ignore_accuracy: 0.9419 - val_loss: 0.0598 - val_acc: 0.9867 - val_ignore_accuracy: 0.8635\n",
            "Epoch 58/100\n",
            "1878/1878 [==============================] - 9s 5ms/step - loss: 0.0286 - acc: 0.9949 - ignore_accuracy: 0.9457 - val_loss: 0.0584 - val_acc: 0.9871 - val_ignore_accuracy: 0.8675\n",
            "Epoch 59/100\n",
            "1878/1878 [==============================] - 9s 5ms/step - loss: 0.0268 - acc: 0.9952 - ignore_accuracy: 0.9491 - val_loss: 0.0569 - val_acc: 0.9874 - val_ignore_accuracy: 0.8700\n",
            "Epoch 60/100\n",
            "1878/1878 [==============================] - 9s 5ms/step - loss: 0.0252 - acc: 0.9955 - ignore_accuracy: 0.9524 - val_loss: 0.0558 - val_acc: 0.9874 - val_ignore_accuracy: 0.8706\n",
            "Epoch 61/100\n",
            "1878/1878 [==============================] - 9s 5ms/step - loss: 0.0237 - acc: 0.9958 - ignore_accuracy: 0.9561 - val_loss: 0.0549 - val_acc: 0.9876 - val_ignore_accuracy: 0.8728\n",
            "Epoch 62/100\n",
            "1878/1878 [==============================] - 9s 5ms/step - loss: 0.0224 - acc: 0.9961 - ignore_accuracy: 0.9590 - val_loss: 0.0537 - val_acc: 0.9879 - val_ignore_accuracy: 0.8756\n",
            "Epoch 63/100\n",
            "1878/1878 [==============================] - 9s 5ms/step - loss: 0.0212 - acc: 0.9963 - ignore_accuracy: 0.9613 - val_loss: 0.0530 - val_acc: 0.9879 - val_ignore_accuracy: 0.8759\n",
            "Epoch 64/100\n",
            "1878/1878 [==============================] - 9s 5ms/step - loss: 0.0201 - acc: 0.9965 - ignore_accuracy: 0.9627 - val_loss: 0.0520 - val_acc: 0.9880 - val_ignore_accuracy: 0.8760\n",
            "Epoch 65/100\n",
            "1878/1878 [==============================] - 9s 5ms/step - loss: 0.0191 - acc: 0.9966 - ignore_accuracy: 0.9644 - val_loss: 0.0515 - val_acc: 0.9882 - val_ignore_accuracy: 0.8781\n",
            "Epoch 66/100\n",
            "1878/1878 [==============================] - 9s 5ms/step - loss: 0.0182 - acc: 0.9967 - ignore_accuracy: 0.9655 - val_loss: 0.0509 - val_acc: 0.9882 - val_ignore_accuracy: 0.8789\n",
            "Epoch 67/100\n",
            "1878/1878 [==============================] - 9s 5ms/step - loss: 0.0173 - acc: 0.9968 - ignore_accuracy: 0.9664 - val_loss: 0.0503 - val_acc: 0.9882 - val_ignore_accuracy: 0.8787\n",
            "Epoch 68/100\n",
            "1878/1878 [==============================] - 9s 5ms/step - loss: 0.0165 - acc: 0.9969 - ignore_accuracy: 0.9675 - val_loss: 0.0498 - val_acc: 0.9883 - val_ignore_accuracy: 0.8796\n",
            "Epoch 69/100\n",
            "1878/1878 [==============================] - 9s 5ms/step - loss: 0.0157 - acc: 0.9971 - ignore_accuracy: 0.9691 - val_loss: 0.0496 - val_acc: 0.9883 - val_ignore_accuracy: 0.8800\n",
            "Epoch 70/100\n",
            "1878/1878 [==============================] - 9s 5ms/step - loss: 0.0150 - acc: 0.9972 - ignore_accuracy: 0.9700 - val_loss: 0.0491 - val_acc: 0.9883 - val_ignore_accuracy: 0.8794\n",
            "Epoch 71/100\n",
            "1878/1878 [==============================] - 9s 5ms/step - loss: 0.0144 - acc: 0.9972 - ignore_accuracy: 0.9705 - val_loss: 0.0485 - val_acc: 0.9885 - val_ignore_accuracy: 0.8815\n",
            "Epoch 72/100\n",
            "1878/1878 [==============================] - 9s 5ms/step - loss: 0.0138 - acc: 0.9973 - ignore_accuracy: 0.9714 - val_loss: 0.0484 - val_acc: 0.9885 - val_ignore_accuracy: 0.8818\n",
            "Epoch 73/100\n",
            "1878/1878 [==============================] - 9s 5ms/step - loss: 0.0133 - acc: 0.9976 - ignore_accuracy: 0.9749 - val_loss: 0.0482 - val_acc: 0.9887 - val_ignore_accuracy: 0.8836\n",
            "Epoch 74/100\n",
            "1878/1878 [==============================] - 9s 5ms/step - loss: 0.0127 - acc: 0.9978 - ignore_accuracy: 0.9765 - val_loss: 0.0475 - val_acc: 0.9888 - val_ignore_accuracy: 0.8845\n",
            "Epoch 75/100\n",
            "1878/1878 [==============================] - 9s 5ms/step - loss: 0.0122 - acc: 0.9979 - ignore_accuracy: 0.9774 - val_loss: 0.0477 - val_acc: 0.9888 - val_ignore_accuracy: 0.8846\n",
            "Epoch 76/100\n",
            "1878/1878 [==============================] - 9s 5ms/step - loss: 0.0118 - acc: 0.9979 - ignore_accuracy: 0.9774 - val_loss: 0.0472 - val_acc: 0.9889 - val_ignore_accuracy: 0.8859\n",
            "Epoch 77/100\n",
            "1878/1878 [==============================] - 9s 5ms/step - loss: 0.0113 - acc: 0.9980 - ignore_accuracy: 0.9784 - val_loss: 0.0468 - val_acc: 0.9889 - val_ignore_accuracy: 0.8860\n",
            "Epoch 78/100\n",
            "1878/1878 [==============================] - 9s 5ms/step - loss: 0.0109 - acc: 0.9980 - ignore_accuracy: 0.9793 - val_loss: 0.0469 - val_acc: 0.9889 - val_ignore_accuracy: 0.8859\n",
            "Epoch 79/100\n",
            "1878/1878 [==============================] - 9s 5ms/step - loss: 0.0105 - acc: 0.9981 - ignore_accuracy: 0.9800 - val_loss: 0.0468 - val_acc: 0.9890 - val_ignore_accuracy: 0.8869\n",
            "Epoch 80/100\n",
            "1878/1878 [==============================] - 9s 5ms/step - loss: 0.0101 - acc: 0.9981 - ignore_accuracy: 0.9803 - val_loss: 0.0464 - val_acc: 0.9890 - val_ignore_accuracy: 0.8864\n",
            "Epoch 81/100\n",
            "1878/1878 [==============================] - 9s 5ms/step - loss: 0.0098 - acc: 0.9982 - ignore_accuracy: 0.9810 - val_loss: 0.0465 - val_acc: 0.9890 - val_ignore_accuracy: 0.8861\n",
            "Epoch 82/100\n",
            "1878/1878 [==============================] - 9s 5ms/step - loss: 0.0094 - acc: 0.9983 - ignore_accuracy: 0.9822 - val_loss: 0.0463 - val_acc: 0.9890 - val_ignore_accuracy: 0.8862\n",
            "Epoch 83/100\n",
            "1878/1878 [==============================] - 9s 5ms/step - loss: 0.0091 - acc: 0.9983 - ignore_accuracy: 0.9824 - val_loss: 0.0464 - val_acc: 0.9890 - val_ignore_accuracy: 0.8862\n",
            "Epoch 84/100\n",
            "1878/1878 [==============================] - 9s 5ms/step - loss: 0.0088 - acc: 0.9984 - ignore_accuracy: 0.9833 - val_loss: 0.0464 - val_acc: 0.9890 - val_ignore_accuracy: 0.8872\n",
            "Epoch 85/100\n",
            "1878/1878 [==============================] - 9s 5ms/step - loss: 0.0085 - acc: 0.9985 - ignore_accuracy: 0.9837 - val_loss: 0.0463 - val_acc: 0.9890 - val_ignore_accuracy: 0.8864\n",
            "Epoch 86/100\n",
            "1878/1878 [==============================] - 9s 5ms/step - loss: 0.0082 - acc: 0.9985 - ignore_accuracy: 0.9843 - val_loss: 0.0467 - val_acc: 0.9890 - val_ignore_accuracy: 0.8865\n",
            "Epoch 87/100\n",
            "1878/1878 [==============================] - 9s 5ms/step - loss: 0.0079 - acc: 0.9985 - ignore_accuracy: 0.9847 - val_loss: 0.0464 - val_acc: 0.9890 - val_ignore_accuracy: 0.8863\n",
            "Epoch 88/100\n",
            "1878/1878 [==============================] - 9s 5ms/step - loss: 0.0077 - acc: 0.9986 - ignore_accuracy: 0.9854 - val_loss: 0.0464 - val_acc: 0.9890 - val_ignore_accuracy: 0.8871\n",
            "Epoch 89/100\n",
            "1878/1878 [==============================] - 9s 5ms/step - loss: 0.0074 - acc: 0.9987 - ignore_accuracy: 0.9860 - val_loss: 0.0460 - val_acc: 0.9890 - val_ignore_accuracy: 0.8867\n",
            "Epoch 90/100\n",
            "1878/1878 [==============================] - 9s 5ms/step - loss: 0.0072 - acc: 0.9987 - ignore_accuracy: 0.9862 - val_loss: 0.0467 - val_acc: 0.9890 - val_ignore_accuracy: 0.8865\n",
            "Epoch 91/100\n",
            "1878/1878 [==============================] - 9s 5ms/step - loss: 0.0071 - acc: 0.9987 - ignore_accuracy: 0.9863 - val_loss: 0.0464 - val_acc: 0.9890 - val_ignore_accuracy: 0.8872\n",
            "Epoch 92/100\n",
            "1878/1878 [==============================] - 9s 5ms/step - loss: 0.0069 - acc: 0.9988 - ignore_accuracy: 0.9872 - val_loss: 0.0468 - val_acc: 0.9891 - val_ignore_accuracy: 0.8874\n",
            "Epoch 93/100\n",
            "1878/1878 [==============================] - 9s 5ms/step - loss: 0.0066 - acc: 0.9988 - ignore_accuracy: 0.9872 - val_loss: 0.0469 - val_acc: 0.9890 - val_ignore_accuracy: 0.8873\n",
            "Epoch 94/100\n",
            "1878/1878 [==============================] - 9s 5ms/step - loss: 0.0064 - acc: 0.9989 - ignore_accuracy: 0.9881 - val_loss: 0.0464 - val_acc: 0.9891 - val_ignore_accuracy: 0.8877\n",
            "Epoch 95/100\n",
            "1878/1878 [==============================] - 9s 5ms/step - loss: 0.0062 - acc: 0.9989 - ignore_accuracy: 0.9883 - val_loss: 0.0468 - val_acc: 0.9891 - val_ignore_accuracy: 0.8878\n",
            "Epoch 96/100\n",
            "1878/1878 [==============================] - 9s 5ms/step - loss: 0.0060 - acc: 0.9989 - ignore_accuracy: 0.9888 - val_loss: 0.0467 - val_acc: 0.9891 - val_ignore_accuracy: 0.8873\n",
            "Epoch 97/100\n",
            "1878/1878 [==============================] - 9s 5ms/step - loss: 0.0059 - acc: 0.9989 - ignore_accuracy: 0.9889 - val_loss: 0.0467 - val_acc: 0.9891 - val_ignore_accuracy: 0.8876\n",
            "Epoch 98/100\n",
            "1878/1878 [==============================] - 9s 5ms/step - loss: 0.0057 - acc: 0.9990 - ignore_accuracy: 0.9896 - val_loss: 0.0469 - val_acc: 0.9891 - val_ignore_accuracy: 0.8877\n",
            "Epoch 99/100\n",
            "1878/1878 [==============================] - 9s 5ms/step - loss: 0.0055 - acc: 0.9990 - ignore_accuracy: 0.9897 - val_loss: 0.0471 - val_acc: 0.9891 - val_ignore_accuracy: 0.8882\n",
            "Epoch 100/100\n",
            "1878/1878 [==============================] - 9s 5ms/step - loss: 0.0054 - acc: 0.9991 - ignore_accuracy: 0.9901 - val_loss: 0.0471 - val_acc: 0.9889 - val_ignore_accuracy: 0.8860\n"
          ],
          "name": "stdout"
        }
      ]
    },
    {
      "metadata": {
        "slideshow": {
          "slide_type": "slide"
        },
        "id": "fr0DO2e522wU",
        "colab_type": "code",
        "colab": {
          "base_uri": "https://localhost:8080/",
          "height": 55
        },
        "outputId": "89a285d6-ee69-4f71-a60a-b8c9ece298d9"
      },
      "cell_type": "code",
      "source": [
        "predictions = model.predict(test_samples_X)\n",
        "print(logits_to_tokens(predictions, {i: t for t, i in tag2index.items()}))"
      ],
      "execution_count": 23,
      "outputs": [
        {
          "output_type": "stream",
          "text": [
            "[['VBG', 'VBZ', 'RB', 'JJ', 'IN', 'PRP', '.', '-PAD-', '-PAD-', '-PAD-', '-PAD-', '-PAD-', '-PAD-', '-PAD-', '-PAD-', '-PAD-', '-PAD-', '-PAD-', '-PAD-', '-PAD-', '-PAD-', '-PAD-', '-PAD-', '-PAD-', '-PAD-', '-PAD-', '-PAD-', '-PAD-', '-PAD-', '-PAD-', '-PAD-', '-PAD-', '-PAD-', '-PAD-', '-PAD-', '-PAD-', '-PAD-', '-PAD-', '-PAD-', '-PAD-', '-PAD-', '-PAD-', '-PAD-', '-PAD-', '-PAD-', '-PAD-', '-PAD-', '-PAD-', '-PAD-', '-PAD-', '-PAD-', '-PAD-', '-PAD-', '-PAD-', '-PAD-', '-PAD-', '-PAD-', '-PAD-', '-PAD-', '-PAD-', '-PAD-', '-PAD-', '-PAD-', '-PAD-', '-PAD-', '-PAD-', '-PAD-', '-PAD-', '-PAD-', '-PAD-', '-PAD-', '-PAD-', '-PAD-', '-PAD-', '-PAD-', '-PAD-', '-PAD-', '-PAD-', '-PAD-', '-PAD-', '-PAD-', '-PAD-', '-PAD-', '-PAD-', '-PAD-', '-PAD-', '-PAD-', '-PAD-', '-PAD-', '-PAD-', '-PAD-', '-PAD-', '-PAD-', '-PAD-', '-PAD-', '-PAD-', '-PAD-', '-PAD-', '-PAD-', '-PAD-', '-PAD-', '-PAD-', '-PAD-', '-PAD-', '-PAD-', '-PAD-', '-PAD-', '-PAD-', '-PAD-', '-PAD-', '-PAD-', '-PAD-', '-PAD-', '-PAD-', '-PAD-', '-PAD-', '-PAD-', '-PAD-', '-PAD-', '-PAD-', '-PAD-', '-PAD-', '-PAD-', '-PAD-', '-PAD-', '-PAD-', '-PAD-', '-PAD-', '-PAD-', '-PAD-', '-PAD-', '-PAD-', '-PAD-', '-PAD-', '-PAD-', '-PAD-', '-PAD-', '-PAD-', '-PAD-', '-PAD-', '-PAD-', '-PAD-', '-PAD-', '-PAD-', '-PAD-', '-PAD-', '-PAD-', '-PAD-', '-PAD-', '-PAD-', '-PAD-', '-PAD-', '-PAD-', '-PAD-', '-PAD-', '-PAD-', '-PAD-', '-PAD-', '-PAD-', '-PAD-', '-PAD-', '-PAD-', '-PAD-', '-PAD-', '-PAD-', '-PAD-', '-PAD-', '-PAD-', '-PAD-', '-PAD-', '-PAD-', '-PAD-', '-PAD-', '-PAD-', '-PAD-', '-PAD-', '-PAD-', '-PAD-', '-PAD-', '-PAD-', '-PAD-', '-PAD-', '-PAD-', '-PAD-', '-PAD-', '-PAD-', '-PAD-', '-PAD-', '-PAD-', '-PAD-', '-PAD-', '-PAD-', '-PAD-', '-PAD-', '-PAD-', '-PAD-', '-PAD-', '-PAD-', '-PAD-', '-PAD-', '-PAD-', '-PAD-', '-PAD-', '-PAD-', '-PAD-', '-PAD-', '-PAD-', '-PAD-', '-PAD-', '-PAD-', '-PAD-', '-PAD-', '-PAD-', '-PAD-', '-PAD-', '-PAD-', '-PAD-', '-PAD-', '-PAD-', '-PAD-', '-PAD-', '-PAD-', '-PAD-', '-PAD-', '-PAD-', '-PAD-', '-PAD-', '-PAD-', '-PAD-', '-PAD-', '-PAD-', '-PAD-', '-PAD-', '-PAD-', '-PAD-', '-PAD-', '-PAD-', '-PAD-', '-PAD-', '-PAD-', '-PAD-', '-PAD-', '-PAD-', '-PAD-', '-PAD-', '-PAD-', '-PAD-', '-PAD-', '-PAD-', '-PAD-', '-PAD-', '-PAD-', '-PAD-', '-PAD-', '-PAD-', '-PAD-', '-PAD-', '-PAD-', '-PAD-', '-PAD-', '-PAD-', '-PAD-', '-PAD-', '-PAD-', '-PAD-', '-PAD-', '-PAD-', '-PAD-', '-PAD-', '-PAD-', '-PAD-'], ['PRP', 'VBD', 'VBG', 'DT', 'NN', 'IN', 'DT', 'NN', '.', '-PAD-', '-PAD-', '-PAD-', '-PAD-', '-PAD-', '-PAD-', '-PAD-', '-PAD-', '-PAD-', '-PAD-', '-PAD-', '-PAD-', '-PAD-', '-PAD-', '-PAD-', '-PAD-', '-PAD-', '-PAD-', '-PAD-', '-PAD-', '-PAD-', '-PAD-', '-PAD-', '-PAD-', '-PAD-', '-PAD-', '-PAD-', '-PAD-', '-PAD-', '-PAD-', '-PAD-', '-PAD-', '-PAD-', '-PAD-', '-PAD-', '-PAD-', '-PAD-', '-PAD-', '-PAD-', '-PAD-', '-PAD-', '-PAD-', '-PAD-', '-PAD-', '-PAD-', '-PAD-', '-PAD-', '-PAD-', '-PAD-', '-PAD-', '-PAD-', '-PAD-', '-PAD-', '-PAD-', '-PAD-', '-PAD-', '-PAD-', '-PAD-', '-PAD-', '-PAD-', '-PAD-', '-PAD-', '-PAD-', '-PAD-', '-PAD-', '-PAD-', '-PAD-', '-PAD-', '-PAD-', '-PAD-', '-PAD-', '-PAD-', '-PAD-', '-PAD-', '-PAD-', '-PAD-', '-PAD-', '-PAD-', '-PAD-', '-PAD-', '-PAD-', '-PAD-', '-PAD-', '-PAD-', '-PAD-', '-PAD-', '-PAD-', '-PAD-', '-PAD-', '-PAD-', '-PAD-', '-PAD-', '-PAD-', '-PAD-', '-PAD-', '-PAD-', '-PAD-', '-PAD-', '-PAD-', '-PAD-', '-PAD-', '-PAD-', '-PAD-', '-PAD-', '-PAD-', '-PAD-', '-PAD-', '-PAD-', '-PAD-', '-PAD-', '-PAD-', '-PAD-', '-PAD-', '-PAD-', '-PAD-', '-PAD-', '-PAD-', '-PAD-', '-PAD-', '-PAD-', '-PAD-', '-PAD-', '-PAD-', '-PAD-', '-PAD-', '-PAD-', '-PAD-', '-PAD-', '-PAD-', '-PAD-', '-PAD-', '-PAD-', '-PAD-', '-PAD-', '-PAD-', '-PAD-', '-PAD-', '-PAD-', '-PAD-', '-PAD-', '-PAD-', '-PAD-', '-PAD-', '-PAD-', '-PAD-', '-PAD-', '-PAD-', '-PAD-', '-PAD-', '-PAD-', '-PAD-', '-PAD-', '-PAD-', '-PAD-', '-PAD-', '-PAD-', '-PAD-', '-PAD-', '-PAD-', '-PAD-', '-PAD-', '-PAD-', '-PAD-', '-PAD-', '-PAD-', '-PAD-', '-PAD-', '-PAD-', '-PAD-', '-PAD-', '-PAD-', '-PAD-', '-PAD-', '-PAD-', '-PAD-', '-PAD-', '-PAD-', '-PAD-', '-PAD-', '-PAD-', '-PAD-', '-PAD-', '-PAD-', '-PAD-', '-PAD-', '-PAD-', '-PAD-', '-PAD-', '-PAD-', '-PAD-', '-PAD-', '-PAD-', '-PAD-', '-PAD-', '-PAD-', '-PAD-', '-PAD-', '-PAD-', '-PAD-', '-PAD-', '-PAD-', '-PAD-', '-PAD-', '-PAD-', '-PAD-', '-PAD-', '-PAD-', '-PAD-', '-PAD-', '-PAD-', '-PAD-', '-PAD-', '-PAD-', '-PAD-', '-PAD-', '-PAD-', '-PAD-', '-PAD-', '-PAD-', '-PAD-', '-PAD-', '-PAD-', '-PAD-', '-PAD-', '-PAD-', '-PAD-', '-PAD-', '-PAD-', '-PAD-', '-PAD-', '-PAD-', '-PAD-', '-PAD-', '-PAD-', '-PAD-', '-PAD-', '-PAD-', '-PAD-', '-PAD-', '-PAD-', '-PAD-', '-PAD-', '-PAD-', '-PAD-', '-PAD-', '-PAD-', '-PAD-', '-PAD-', '-PAD-', '-PAD-', '-PAD-', '-PAD-', '-PAD-', '-PAD-', '-PAD-', '-PAD-', '-PAD-', '-PAD-', '-PAD-', '-PAD-', '-PAD-', '-PAD-']]\n"
          ],
          "name": "stdout"
        }
      ]
    },
    {
      "metadata": {
        "slideshow": {
          "slide_type": "slide"
        },
        "id": "dWsUFxFb22wZ",
        "colab_type": "text"
      },
      "cell_type": "markdown",
      "source": [
        "We can see the great difference in accuracy when we ignore the padding symbol. Also, note that the results reported by the original post https://nlpforhackers.io/lstm-pos-tagger-keras/ are better, probably because they used two LSTM chains: one going forwards, and another going backwards. This is what is called a **bidirectional recurrent network**, and it usually reports better results because each prediction is based on the context on the left and the right of the token."
      ]
    },
    {
      "metadata": {
        "id": "QFJouksxEsDM",
        "colab_type": "code",
        "colab": {
          "base_uri": "https://localhost:8080/",
          "height": 35
        },
        "outputId": "9da0b7d1-60ca-4ddf-d50f-95a29b09dfcb"
      },
      "cell_type": "code",
      "source": [
        "history.history.keys()"
      ],
      "execution_count": 24,
      "outputs": [
        {
          "output_type": "execute_result",
          "data": {
            "text/plain": [
              "dict_keys(['val_loss', 'val_acc', 'val_ignore_accuracy', 'loss', 'acc', 'ignore_accuracy'])"
            ]
          },
          "metadata": {
            "tags": []
          },
          "execution_count": 24
        }
      ]
    },
    {
      "metadata": {
        "id": "L_ieDH5d22wb",
        "colab_type": "code",
        "colab": {
          "base_uri": "https://localhost:8080/",
          "height": 280
        },
        "outputId": "e62eb444-1cca-4f59-9892-ecfeacecdd7a"
      },
      "cell_type": "code",
      "source": [
        "%matplotlib inline\n",
        "from matplotlib import pyplot as plt\n",
        "acc = history.history['acc']\n",
        "val_acc = history.history['val_acc']\n",
        "ignore_acc = history.history['ignore_accuracy']\n",
        "val_ignore_acc = history.history['val_ignore_accuracy']\n",
        "loss = history.history['loss']\n",
        "val_loss = history.history['val_loss']\n",
        "\n",
        "epochs = range(len(acc))\n",
        "\n",
        "plt.subplot(131)\n",
        "plt.plot(epochs, acc, 'bo', label='Training acc')\n",
        "plt.plot(epochs, val_acc, 'b', label='Validation acc')\n",
        "plt.title('Training and validation accuracy')\n",
        "plt.legend()\n",
        "\n",
        "plt.subplot(132)\n",
        "plt.plot(epochs, ignore_acc, 'bo', label='Training ignore acc')\n",
        "plt.plot(epochs, val_ignore_acc, 'b', label='Validation ignore acc')\n",
        "plt.title('Training and validation ignore accuracy')\n",
        "plt.legend()\n",
        "\n",
        "plt.subplot(133)\n",
        "plt.plot(epochs, loss, 'bo', label='Training loss')\n",
        "plt.plot(epochs, val_loss, 'b', label='Validation loss')\n",
        "plt.title('Training and validation loss')\n",
        "plt.legend()\n",
        "\n",
        "plt.show()\n"
      ],
      "execution_count": 27,
      "outputs": [
        {
          "output_type": "display_data",
          "data": {
            "image/png": "[encoded data removed]",
            "text/plain": [
              "<Figure size 432x288 with 3 Axes>"
            ]
          },
          "metadata": {
            "tags": []
          }
        }
      ]
    },
    {
      "metadata": {
        "id": "BPsYClKQFTtc",
        "colab_type": "code",
        "colab": {}
      },
      "cell_type": "code",
      "source": [
        ""
      ],
      "execution_count": 0,
      "outputs": []
    }
  ]
}