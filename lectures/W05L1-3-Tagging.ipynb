{
  "nbformat": 4,
  "nbformat_minor": 0,
  "metadata": {
    "colab": {
      "name": "W05L1-3-Tagging.ipynb",
      "version": "0.3.2",
      "provenance": []
    },
    "kernelspec": {
      "name": "python3",
      "display_name": "Python 3"
    },
    "accelerator": "GPU"
  },
  "cells": [
    {
      "metadata": {
        "slideshow": {
          "slide_type": "slide"
        },
        "id": "AWyCmzO622th",
        "colab_type": "text"
      },
      "cell_type": "markdown",
      "source": [
        "# Building a Part of Speech Tagger with Keras\n",
        "\n",
        "This notebook is based on nlpforhackers' post: https://nlpforhackers.io/lstm-pos-tagger-keras/. We will look at how to build a part of speech tagger using a LSTM layer.\n",
        "\n",
        "We will use NLTK's treebank corpus. This corpus has, among other kinds of information, annotations about the parts of speech of the words."
      ]
    },
    {
      "metadata": {
        "id": "dugp1ZSX22tm",
        "colab_type": "code",
        "outputId": "9100f3ec-841b-4feb-cc25-fad4239b0478",
        "colab": {
          "base_uri": "https://localhost:8080/",
          "height": 127
        }
      },
      "cell_type": "code",
      "source": [
        "import nltk\n",
        "nltk.download('treebank')\n",
        "\n",
        "tagged_sentences = nltk.corpus.treebank.tagged_sents()\n",
        " \n",
        "print(tagged_sentences[0])\n",
        "print(\"Tagged sentences: \", len(tagged_sentences))\n",
        "print(\"Tagged words:\", len(nltk.corpus.treebank.tagged_words()))"
      ],
      "execution_count": 1,
      "outputs": [
        {
          "output_type": "stream",
          "text": [
            "[nltk_data] Downloading package treebank to /root/nltk_data...\n",
            "[nltk_data]   Unzipping corpora/treebank.zip.\n",
            "[('Pierre', 'NNP'), ('Vinken', 'NNP'), (',', ','), ('61', 'CD'), ('years', 'NNS'), ('old', 'JJ'), (',', ','), ('will', 'MD'), ('join', 'VB'), ('the', 'DT'), ('board', 'NN'), ('as', 'IN'), ('a', 'DT'), ('nonexecutive', 'JJ'), ('director', 'NN'), ('Nov.', 'NNP'), ('29', 'CD'), ('.', '.')]\n",
            "Tagged sentences:  3914\n",
            "Tagged words: 100676\n"
          ],
          "name": "stdout"
        }
      ]
    },
    {
      "metadata": {
        "slideshow": {
          "slide_type": "slide"
        },
        "id": "aKG3Wi1k22tx",
        "colab_type": "text"
      },
      "cell_type": "markdown",
      "source": [
        "As always, before training a model, we need to split the data in training and testing data:"
      ]
    },
    {
      "metadata": {
        "id": "B0BTKbIe22tz",
        "colab_type": "code",
        "colab": {}
      },
      "cell_type": "code",
      "source": [
        "import random\n",
        "random.seed(1234)\n",
        "tagged_sentences = list(tagged_sentences) # we convert the data to a list\n",
        "random.shuffle(tagged_sentences)"
      ],
      "execution_count": 0,
      "outputs": []
    },
    {
      "metadata": {
        "id": "sEkj81QG22t4",
        "colab_type": "code",
        "colab": {}
      },
      "cell_type": "code",
      "source": [
        "threshold = int(len(tagged_sentences)*.6)\n",
        "train = tagged_sentences[:threshold]\n",
        "test = tagged_sentences[threshold:]"
      ],
      "execution_count": 0,
      "outputs": []
    },
    {
      "metadata": {
        "slideshow": {
          "slide_type": "slide"
        },
        "id": "42eTQ3kQ22t9",
        "colab_type": "text"
      },
      "cell_type": "markdown",
      "source": [
        "Let’s restructure the data a bit. Let’s separate the words from the tags."
      ]
    },
    {
      "metadata": {
        "id": "J-DZLM5e22t_",
        "colab_type": "code",
        "colab": {}
      },
      "cell_type": "code",
      "source": [
        "import numpy as np\n",
        " \n",
        "train_sentences, train_tags =[], [] \n",
        "for tagged_sentence in train:\n",
        "    sentence, tags = zip(*tagged_sentence)\n",
        "    train_sentences.append(np.array(sentence))\n",
        "    train_tags.append(np.array(tags))\n",
        "    \n",
        "test_sentences, test_tags =[], [] \n",
        "for tagged_sentence in test:\n",
        "    sentence, tags = zip(*tagged_sentence)\n",
        "    test_sentences.append(np.array(sentence))\n",
        "    test_tags.append(np.array(tags))"
      ],
      "execution_count": 0,
      "outputs": []
    },
    {
      "metadata": {
        "id": "aKlHJ21O22uE",
        "colab_type": "code",
        "outputId": "9ae85f10-7b45-4096-99cd-8ef06861ba83",
        "colab": {
          "base_uri": "https://localhost:8080/",
          "height": 71
        }
      },
      "cell_type": "code",
      "source": [
        "print(train_sentences[5])\n",
        "print(train_tags[5])"
      ],
      "execution_count": 5,
      "outputs": [
        {
          "output_type": "stream",
          "text": [
            "['They' 'are' 'keeping' 'a' 'close' 'watch' 'on' 'the' 'yield' 'on' 'the'\n",
            " 'S&P' '500' '.']\n",
            "['PRP' 'VBP' 'VBG' 'DT' 'JJ' 'NN' 'IN' 'DT' 'NN' 'IN' 'DT' 'NNP' 'CD' '.']\n"
          ],
          "name": "stdout"
        }
      ]
    },
    {
      "metadata": {
        "slideshow": {
          "slide_type": "slide"
        },
        "id": "TO6Fo_ez22uK",
        "colab_type": "text"
      },
      "cell_type": "markdown",
      "source": [
        "Let's now convert the words and tags to indices. We will reserve index 0 for padding, and index 1 for words that are out of the vocabulary (**OOV - Out of Vocabulary**)."
      ]
    },
    {
      "metadata": {
        "id": "Dpy45jUr22uM",
        "colab_type": "code",
        "colab": {}
      },
      "cell_type": "code",
      "source": [
        "words, tags = set([]), set([])\n",
        " \n",
        "for s in train_sentences:\n",
        "    for w in s:\n",
        "        words.add(w.lower())\n",
        " \n",
        "for ts in train_tags:\n",
        "    for t in ts:\n",
        "        tags.add(t)\n",
        " \n",
        "word2index = {w: i + 2 for i, w in enumerate(list(words))}\n",
        "word2index['-PAD-'] = 0  # The special value used for padding\n",
        "word2index['-OOV-'] = 1  # The special value used for OOVs\n",
        " \n",
        "tag2index = {t: i + 2 for i, t in enumerate(list(tags))}\n",
        "tag2index['-PAD-'] = 0  # The special value used to padding\n",
        "tag2index['-OOV-'] = 1  # There may also be unknown tags in the test data"
      ],
      "execution_count": 0,
      "outputs": []
    },
    {
      "metadata": {
        "slideshow": {
          "slide_type": "slide"
        },
        "id": "tz7jJt1R22uQ",
        "colab_type": "code",
        "outputId": "c1aef435-600b-4805-a949-9f5e72f1becc",
        "colab": {
          "base_uri": "https://localhost:8080/",
          "height": 89
        }
      },
      "cell_type": "code",
      "source": [
        "train_sentences_X, test_sentences_X, train_tags_y, test_tags_y = [], [], [], []\n",
        " \n",
        "for s in train_sentences:\n",
        "    s_int = []\n",
        "    for w in s:\n",
        "        try:\n",
        "            s_int.append(word2index[w.lower()])\n",
        "        except KeyError:\n",
        "            s_int.append(word2index['-OOV-'])\n",
        " \n",
        "    train_sentences_X.append(s_int)\n",
        " \n",
        "for s in test_sentences:\n",
        "    s_int = []\n",
        "    for w in s:\n",
        "        try:\n",
        "            s_int.append(word2index[w.lower()])\n",
        "        except KeyError:\n",
        "            s_int.append(word2index['-OOV-'])\n",
        " \n",
        "    test_sentences_X.append(s_int)\n",
        " \n",
        "for s in train_tags:\n",
        "    train_tags_y.append([tag2index[t] for t in s])\n",
        " \n",
        "for s in test_tags:\n",
        "    s_int = []\n",
        "    for t in s:\n",
        "        try:\n",
        "            s_int.append(tag2index[t])\n",
        "        except KeyError:\n",
        "            s_int.append(tag2index['-OOV-'])\n",
        "            \n",
        "    test_tags_y.append(s_int)\n",
        " \n",
        "print(train_sentences_X[0])\n",
        "print(test_sentences_X[0])\n",
        "print(train_tags_y[0])\n",
        "print(test_tags_y[0])"
      ],
      "execution_count": 7,
      "outputs": [
        {
          "output_type": "stream",
          "text": [
            "[4303, 389, 7149, 3356, 4538, 1088, 6477, 6831]\n",
            "[4842, 5670, 2706, 5799, 3360, 1, 7364, 7238, 3651, 162, 4296, 7238, 1, 5767, 3180, 4538, 3741, 6555, 7238, 5256, 8507, 1, 6831]\n",
            "[7, 45, 29, 34, 38, 19, 19, 16]\n",
            "[33, 34, 30, 28, 34, 30, 14, 18, 10, 33, 30, 18, 30, 14, 30, 38, 20, 30, 18, 14, 43, 30, 16]\n"
          ],
          "name": "stdout"
        }
      ]
    },
    {
      "metadata": {
        "slideshow": {
          "slide_type": "slide"
        },
        "id": "tyBmXkCw22uW",
        "colab_type": "text"
      },
      "cell_type": "markdown",
      "source": [
        "Since Keras can only deal with fixed size sequences, we will pad all sequences to fit the longest sentence in the training data."
      ]
    },
    {
      "metadata": {
        "id": "e0ZdPDZA22uY",
        "colab_type": "code",
        "outputId": "735a8b93-98cd-40ff-cddb-7a0aa6f742c1",
        "colab": {
          "base_uri": "https://localhost:8080/",
          "height": 35
        }
      },
      "cell_type": "code",
      "source": [
        "MAX_LENGTH = len(max(train_sentences_X, key=len))\n",
        "print(MAX_LENGTH)"
      ],
      "execution_count": 8,
      "outputs": [
        {
          "output_type": "stream",
          "text": [
            "271\n"
          ],
          "name": "stdout"
        }
      ]
    },
    {
      "metadata": {
        "scrolled": true,
        "id": "S8fOCFoD22ud",
        "colab_type": "code",
        "outputId": "c91f0a07-ec7a-4fb7-c4cb-6700d1f21aa7",
        "colab": {
          "base_uri": "https://localhost:8080/",
          "height": 1187
        }
      },
      "cell_type": "code",
      "source": [
        "from keras.preprocessing.sequence import pad_sequences\n",
        " \n",
        "train_sentences_X = pad_sequences(train_sentences_X, maxlen=MAX_LENGTH, padding='post')\n",
        "test_sentences_X = pad_sequences(test_sentences_X, maxlen=MAX_LENGTH, padding='post')\n",
        "train_tags_y = pad_sequences(train_tags_y, maxlen=MAX_LENGTH, padding='post')\n",
        "test_tags_y = pad_sequences(test_tags_y, maxlen=MAX_LENGTH, padding='post')\n",
        " \n",
        "print(train_sentences_X[0])\n",
        "print(test_sentences_X[0])\n",
        "print(train_tags_y[0])\n",
        "print(test_tags_y[0])"
      ],
      "execution_count": 9,
      "outputs": [
        {
          "output_type": "stream",
          "text": [
            "Using TensorFlow backend.\n"
          ],
          "name": "stderr"
        },
        {
          "output_type": "stream",
          "text": [
            "[4303  389 7149 3356 4538 1088 6477 6831    0    0    0    0    0    0\n",
            "    0    0    0    0    0    0    0    0    0    0    0    0    0    0\n",
            "    0    0    0    0    0    0    0    0    0    0    0    0    0    0\n",
            "    0    0    0    0    0    0    0    0    0    0    0    0    0    0\n",
            "    0    0    0    0    0    0    0    0    0    0    0    0    0    0\n",
            "    0    0    0    0    0    0    0    0    0    0    0    0    0    0\n",
            "    0    0    0    0    0    0    0    0    0    0    0    0    0    0\n",
            "    0    0    0    0    0    0    0    0    0    0    0    0    0    0\n",
            "    0    0    0    0    0    0    0    0    0    0    0    0    0    0\n",
            "    0    0    0    0    0    0    0    0    0    0    0    0    0    0\n",
            "    0    0    0    0    0    0    0    0    0    0    0    0    0    0\n",
            "    0    0    0    0    0    0    0    0    0    0    0    0    0    0\n",
            "    0    0    0    0    0    0    0    0    0    0    0    0    0    0\n",
            "    0    0    0    0    0    0    0    0    0    0    0    0    0    0\n",
            "    0    0    0    0    0    0    0    0    0    0    0    0    0    0\n",
            "    0    0    0    0    0    0    0    0    0    0    0    0    0    0\n",
            "    0    0    0    0    0    0    0    0    0    0    0    0    0    0\n",
            "    0    0    0    0    0    0    0    0    0    0    0    0    0    0\n",
            "    0    0    0    0    0    0    0    0    0    0    0    0    0    0\n",
            "    0    0    0    0    0]\n",
            "[4842 5670 2706 5799 3360    1 7364 7238 3651  162 4296 7238    1 5767\n",
            " 3180 4538 3741 6555 7238 5256 8507    1 6831    0    0    0    0    0\n",
            "    0    0    0    0    0    0    0    0    0    0    0    0    0    0\n",
            "    0    0    0    0    0    0    0    0    0    0    0    0    0    0\n",
            "    0    0    0    0    0    0    0    0    0    0    0    0    0    0\n",
            "    0    0    0    0    0    0    0    0    0    0    0    0    0    0\n",
            "    0    0    0    0    0    0    0    0    0    0    0    0    0    0\n",
            "    0    0    0    0    0    0    0    0    0    0    0    0    0    0\n",
            "    0    0    0    0    0    0    0    0    0    0    0    0    0    0\n",
            "    0    0    0    0    0    0    0    0    0    0    0    0    0    0\n",
            "    0    0    0    0    0    0    0    0    0    0    0    0    0    0\n",
            "    0    0    0    0    0    0    0    0    0    0    0    0    0    0\n",
            "    0    0    0    0    0    0    0    0    0    0    0    0    0    0\n",
            "    0    0    0    0    0    0    0    0    0    0    0    0    0    0\n",
            "    0    0    0    0    0    0    0    0    0    0    0    0    0    0\n",
            "    0    0    0    0    0    0    0    0    0    0    0    0    0    0\n",
            "    0    0    0    0    0    0    0    0    0    0    0    0    0    0\n",
            "    0    0    0    0    0    0    0    0    0    0    0    0    0    0\n",
            "    0    0    0    0    0    0    0    0    0    0    0    0    0    0\n",
            "    0    0    0    0    0]\n",
            "[ 7 45 29 34 38 19 19 16  0  0  0  0  0  0  0  0  0  0  0  0  0  0  0  0\n",
            "  0  0  0  0  0  0  0  0  0  0  0  0  0  0  0  0  0  0  0  0  0  0  0  0\n",
            "  0  0  0  0  0  0  0  0  0  0  0  0  0  0  0  0  0  0  0  0  0  0  0  0\n",
            "  0  0  0  0  0  0  0  0  0  0  0  0  0  0  0  0  0  0  0  0  0  0  0  0\n",
            "  0  0  0  0  0  0  0  0  0  0  0  0  0  0  0  0  0  0  0  0  0  0  0  0\n",
            "  0  0  0  0  0  0  0  0  0  0  0  0  0  0  0  0  0  0  0  0  0  0  0  0\n",
            "  0  0  0  0  0  0  0  0  0  0  0  0  0  0  0  0  0  0  0  0  0  0  0  0\n",
            "  0  0  0  0  0  0  0  0  0  0  0  0  0  0  0  0  0  0  0  0  0  0  0  0\n",
            "  0  0  0  0  0  0  0  0  0  0  0  0  0  0  0  0  0  0  0  0  0  0  0  0\n",
            "  0  0  0  0  0  0  0  0  0  0  0  0  0  0  0  0  0  0  0  0  0  0  0  0\n",
            "  0  0  0  0  0  0  0  0  0  0  0  0  0  0  0  0  0  0  0  0  0  0  0  0\n",
            "  0  0  0  0  0  0  0]\n",
            "[33 34 30 28 34 30 14 18 10 33 30 18 30 14 30 38 20 30 18 14 43 30 16  0\n",
            "  0  0  0  0  0  0  0  0  0  0  0  0  0  0  0  0  0  0  0  0  0  0  0  0\n",
            "  0  0  0  0  0  0  0  0  0  0  0  0  0  0  0  0  0  0  0  0  0  0  0  0\n",
            "  0  0  0  0  0  0  0  0  0  0  0  0  0  0  0  0  0  0  0  0  0  0  0  0\n",
            "  0  0  0  0  0  0  0  0  0  0  0  0  0  0  0  0  0  0  0  0  0  0  0  0\n",
            "  0  0  0  0  0  0  0  0  0  0  0  0  0  0  0  0  0  0  0  0  0  0  0  0\n",
            "  0  0  0  0  0  0  0  0  0  0  0  0  0  0  0  0  0  0  0  0  0  0  0  0\n",
            "  0  0  0  0  0  0  0  0  0  0  0  0  0  0  0  0  0  0  0  0  0  0  0  0\n",
            "  0  0  0  0  0  0  0  0  0  0  0  0  0  0  0  0  0  0  0  0  0  0  0  0\n",
            "  0  0  0  0  0  0  0  0  0  0  0  0  0  0  0  0  0  0  0  0  0  0  0  0\n",
            "  0  0  0  0  0  0  0  0  0  0  0  0  0  0  0  0  0  0  0  0  0  0  0  0\n",
            "  0  0  0  0  0  0  0]\n"
          ],
          "name": "stdout"
        }
      ]
    },
    {
      "metadata": {
        "slideshow": {
          "slide_type": "slide"
        },
        "id": "f0w8DzeQ22uj",
        "colab_type": "text"
      },
      "cell_type": "markdown",
      "source": [
        "We can now define the model. \n",
        "A simple approach to build a part-of-speech tagger in Keras is to stack a dense layer at the output of each RNN cell. This is achieved with `TimeDistributed`. Note  how the output of the model is now a list of sequences of vectors. Each vector will contain the probability of each tag. In particular:\n",
        "\n",
        "* We will introduce an embedding layer.\n",
        "* THe LSTM layer will have the parameter `return_sequences=True` so that we have access to the entire sequence.\n",
        "* The output of each LSTM cell will have a `Dense` layer. We can do this using the `TimeDistributed` layer."
      ]
    },
    {
      "metadata": {
        "slideshow": {
          "slide_type": "slide"
        },
        "id": "f6buON2e22ul",
        "colab_type": "code",
        "outputId": "734aff66-2695-4a76-b2de-a7c5fa4a6040",
        "colab": {
          "base_uri": "https://localhost:8080/",
          "height": 361
        }
      },
      "cell_type": "code",
      "source": [
        "from keras.models import Sequential\n",
        "from keras.layers import Dense, LSTM, InputLayer, TimeDistributed, Embedding, Activation\n",
        "from keras.optimizers import Adam\n",
        " \n",
        " \n",
        "model = Sequential()\n",
        "model.add(InputLayer(input_shape=(MAX_LENGTH, )))\n",
        "model.add(Embedding(len(word2index), 128))\n",
        "model.add(LSTM(256, return_sequences=True))\n",
        "model.add(TimeDistributed(Dense(len(tag2index))))\n",
        "model.add(Activation('softmax'))\n",
        " \n",
        "model.compile(loss='categorical_crossentropy',\n",
        "              optimizer=Adam(0.001),\n",
        "              metrics=['accuracy'])\n",
        " \n",
        "model.summary()"
      ],
      "execution_count": 10,
      "outputs": [
        {
          "output_type": "stream",
          "text": [
            "WARNING:tensorflow:From /usr/local/lib/python3.6/dist-packages/tensorflow/python/framework/op_def_library.py:263: colocate_with (from tensorflow.python.framework.ops) is deprecated and will be removed in a future version.\n",
            "Instructions for updating:\n",
            "Colocations handled automatically by placer.\n",
            "_________________________________________________________________\n",
            "Layer (type)                 Output Shape              Param #   \n",
            "=================================================================\n",
            "embedding_1 (Embedding)      (None, 271, 128)          1111424   \n",
            "_________________________________________________________________\n",
            "lstm_1 (LSTM)                (None, 271, 256)          394240    \n",
            "_________________________________________________________________\n",
            "time_distributed_1 (TimeDist (None, 271, 47)           12079     \n",
            "_________________________________________________________________\n",
            "activation_1 (Activation)    (None, 271, 47)           0         \n",
            "=================================================================\n",
            "Total params: 1,517,743\n",
            "Trainable params: 1,517,743\n",
            "Non-trainable params: 0\n",
            "_________________________________________________________________\n"
          ],
          "name": "stdout"
        }
      ]
    },
    {
      "metadata": {
        "slideshow": {
          "slide_type": "slide"
        },
        "id": "UeE6WfGH22ur",
        "colab_type": "text"
      },
      "cell_type": "markdown",
      "source": [
        "We also need to convert the labels into one-hot encoding. Since the input are sequences of labels we cannot use Keras' `to_categorical` so we define our own function:"
      ]
    },
    {
      "metadata": {
        "id": "bJTyy7hA22uu",
        "colab_type": "code",
        "colab": {}
      },
      "cell_type": "code",
      "source": [
        "def to_categorical(sequences, categories):\n",
        "    cat_sequences = []\n",
        "    for s in sequences:\n",
        "        cats = []\n",
        "        for item in s:\n",
        "            cats.append(np.zeros(categories))\n",
        "            cats[-1][item] = 1.0\n",
        "        cat_sequences.append(cats)\n",
        "    return np.array(cat_sequences)"
      ],
      "execution_count": 0,
      "outputs": []
    },
    {
      "metadata": {
        "id": "xWr3YL_S22uy",
        "colab_type": "code",
        "outputId": "78fd46b4-8ab1-4853-f8fd-9133c343c797",
        "colab": {
          "base_uri": "https://localhost:8080/",
          "height": 143
        }
      },
      "cell_type": "code",
      "source": [
        "cat_train_tags_y = to_categorical(train_tags_y, len(tag2index))\n",
        "print(cat_train_tags_y[0])"
      ],
      "execution_count": 12,
      "outputs": [
        {
          "output_type": "stream",
          "text": [
            "[[0. 0. 0. ... 0. 0. 0.]\n",
            " [0. 0. 0. ... 0. 1. 0.]\n",
            " [0. 0. 0. ... 0. 0. 0.]\n",
            " ...\n",
            " [1. 0. 0. ... 0. 0. 0.]\n",
            " [1. 0. 0. ... 0. 0. 0.]\n",
            " [1. 0. 0. ... 0. 0. 0.]]\n"
          ],
          "name": "stdout"
        }
      ]
    },
    {
      "metadata": {
        "slideshow": {
          "slide_type": "slide"
        },
        "id": "XLqIilKl22u5",
        "colab_type": "text"
      },
      "cell_type": "markdown",
      "source": [
        "We can finally train the model:"
      ]
    },
    {
      "metadata": {
        "id": "7pTh_pR922vA",
        "colab_type": "code",
        "outputId": "ac27ebf5-9172-469c-9ff2-34817c3c0a32",
        "colab": {
          "base_uri": "https://localhost:8080/",
          "height": 1583
        }
      },
      "cell_type": "code",
      "source": [
        "history = model.fit(train_sentences_X, cat_train_tags_y, batch_size=128, epochs=40, validation_split=0.2)\n",
        " "
      ],
      "execution_count": 13,
      "outputs": [
        {
          "output_type": "stream",
          "text": [
            "WARNING:tensorflow:From /usr/local/lib/python3.6/dist-packages/tensorflow/python/ops/math_ops.py:3066: to_int32 (from tensorflow.python.ops.math_ops) is deprecated and will be removed in a future version.\n",
            "Instructions for updating:\n",
            "Use tf.cast instead.\n",
            "WARNING:tensorflow:From /usr/local/lib/python3.6/dist-packages/tensorflow/python/ops/math_grad.py:102: div (from tensorflow.python.ops.math_ops) is deprecated and will be removed in a future version.\n",
            "Instructions for updating:\n",
            "Deprecated in favor of operator or tf.math.divide.\n",
            "Train on 1878 samples, validate on 470 samples\n",
            "Epoch 1/40\n",
            "1878/1878 [==============================] - 12s 6ms/step - loss: 1.7439 - acc: 0.8436 - val_loss: 0.6010 - val_acc: 0.9036\n",
            "Epoch 2/40\n",
            "1878/1878 [==============================] - 9s 5ms/step - loss: 0.6316 - acc: 0.8845 - val_loss: 0.4542 - val_acc: 0.9037\n",
            "Epoch 3/40\n",
            "1878/1878 [==============================] - 9s 5ms/step - loss: 0.4090 - acc: 0.9056 - val_loss: 0.3928 - val_acc: 0.9038\n",
            "Epoch 4/40\n",
            "1878/1878 [==============================] - 9s 5ms/step - loss: 0.3843 - acc: 0.9058 - val_loss: 0.3834 - val_acc: 0.9039\n",
            "Epoch 5/40\n",
            "1878/1878 [==============================] - 9s 5ms/step - loss: 0.3704 - acc: 0.9060 - val_loss: 0.3746 - val_acc: 0.9041\n",
            "Epoch 6/40\n",
            "1878/1878 [==============================] - 9s 5ms/step - loss: 0.3600 - acc: 0.9062 - val_loss: 0.3602 - val_acc: 0.9041\n",
            "Epoch 7/40\n",
            "1878/1878 [==============================] - 9s 5ms/step - loss: 0.3449 - acc: 0.9066 - val_loss: 0.3520 - val_acc: 0.9050\n",
            "Epoch 8/40\n",
            "1878/1878 [==============================] - 9s 5ms/step - loss: 0.3357 - acc: 0.9080 - val_loss: 0.3454 - val_acc: 0.9060\n",
            "Epoch 9/40\n",
            "1878/1878 [==============================] - 9s 5ms/step - loss: 0.3314 - acc: 0.9097 - val_loss: 0.3361 - val_acc: 0.9096\n",
            "Epoch 10/40\n",
            "1878/1878 [==============================] - 9s 5ms/step - loss: 0.3230 - acc: 0.9109 - val_loss: 0.3395 - val_acc: 0.9096\n",
            "Epoch 11/40\n",
            "1878/1878 [==============================] - 9s 5ms/step - loss: 0.3168 - acc: 0.9132 - val_loss: 0.3370 - val_acc: 0.9120\n",
            "Epoch 12/40\n",
            "1878/1878 [==============================] - 9s 5ms/step - loss: 0.3112 - acc: 0.9146 - val_loss: 0.3433 - val_acc: 0.9128\n",
            "Epoch 13/40\n",
            "1878/1878 [==============================] - 9s 5ms/step - loss: 0.3069 - acc: 0.9158 - val_loss: 0.3557 - val_acc: 0.9134\n",
            "Epoch 14/40\n",
            "1878/1878 [==============================] - 9s 5ms/step - loss: 0.3019 - acc: 0.9170 - val_loss: 0.3368 - val_acc: 0.9157\n",
            "Epoch 15/40\n",
            "1878/1878 [==============================] - 9s 5ms/step - loss: 0.2989 - acc: 0.9184 - val_loss: 0.3295 - val_acc: 0.9166\n",
            "Epoch 16/40\n",
            "1878/1878 [==============================] - 9s 5ms/step - loss: 0.2936 - acc: 0.9194 - val_loss: 0.3215 - val_acc: 0.9175\n",
            "Epoch 17/40\n",
            "1878/1878 [==============================] - 9s 5ms/step - loss: 0.2899 - acc: 0.9200 - val_loss: 0.3315 - val_acc: 0.9174\n",
            "Epoch 18/40\n",
            "1878/1878 [==============================] - 9s 5ms/step - loss: 0.2875 - acc: 0.9203 - val_loss: 0.3321 - val_acc: 0.9173\n",
            "Epoch 19/40\n",
            "1878/1878 [==============================] - 9s 5ms/step - loss: 0.2852 - acc: 0.9206 - val_loss: 0.3030 - val_acc: 0.9190\n",
            "Epoch 20/40\n",
            "1878/1878 [==============================] - 9s 5ms/step - loss: 0.2826 - acc: 0.9208 - val_loss: 0.2933 - val_acc: 0.9196\n",
            "Epoch 21/40\n",
            "1878/1878 [==============================] - 9s 5ms/step - loss: 0.2806 - acc: 0.9209 - val_loss: 0.2909 - val_acc: 0.9198\n",
            "Epoch 22/40\n",
            "1878/1878 [==============================] - 9s 5ms/step - loss: 0.2778 - acc: 0.9211 - val_loss: 0.2937 - val_acc: 0.9196\n",
            "Epoch 23/40\n",
            "1878/1878 [==============================] - 9s 5ms/step - loss: 0.2752 - acc: 0.9219 - val_loss: 0.2893 - val_acc: 0.9210\n",
            "Epoch 24/40\n",
            "1878/1878 [==============================] - 9s 5ms/step - loss: 0.2726 - acc: 0.9233 - val_loss: 0.2879 - val_acc: 0.9212\n",
            "Epoch 25/40\n",
            "1878/1878 [==============================] - 9s 5ms/step - loss: 0.2697 - acc: 0.9242 - val_loss: 0.2878 - val_acc: 0.9219\n",
            "Epoch 26/40\n",
            "1878/1878 [==============================] - 9s 5ms/step - loss: 0.2661 - acc: 0.9253 - val_loss: 0.2826 - val_acc: 0.9263\n",
            "Epoch 27/40\n",
            "1878/1878 [==============================] - 9s 5ms/step - loss: 0.2619 - acc: 0.9288 - val_loss: 0.2790 - val_acc: 0.9283\n",
            "Epoch 28/40\n",
            "1878/1878 [==============================] - 9s 5ms/step - loss: 0.2568 - acc: 0.9324 - val_loss: 0.2738 - val_acc: 0.9311\n",
            "Epoch 29/40\n",
            "1878/1878 [==============================] - 9s 5ms/step - loss: 0.2499 - acc: 0.9357 - val_loss: 0.2657 - val_acc: 0.9343\n",
            "Epoch 30/40\n",
            "1878/1878 [==============================] - 9s 5ms/step - loss: 0.2413 - acc: 0.9392 - val_loss: 0.2576 - val_acc: 0.9370\n",
            "Epoch 31/40\n",
            "1878/1878 [==============================] - 9s 5ms/step - loss: 0.2316 - acc: 0.9418 - val_loss: 0.2468 - val_acc: 0.9385\n",
            "Epoch 32/40\n",
            "1878/1878 [==============================] - 9s 5ms/step - loss: 0.2206 - acc: 0.9445 - val_loss: 0.2317 - val_acc: 0.9440\n",
            "Epoch 33/40\n",
            "1878/1878 [==============================] - 9s 5ms/step - loss: 0.2088 - acc: 0.9477 - val_loss: 0.2192 - val_acc: 0.9463\n",
            "Epoch 34/40\n",
            "1878/1878 [==============================] - 9s 5ms/step - loss: 0.1969 - acc: 0.9510 - val_loss: 0.2078 - val_acc: 0.9486\n",
            "Epoch 35/40\n",
            "1878/1878 [==============================] - 9s 5ms/step - loss: 0.1844 - acc: 0.9544 - val_loss: 0.1961 - val_acc: 0.9523\n",
            "Epoch 36/40\n",
            "1878/1878 [==============================] - 9s 5ms/step - loss: 0.1722 - acc: 0.9577 - val_loss: 0.1874 - val_acc: 0.9539\n",
            "Epoch 37/40\n",
            "1878/1878 [==============================] - 9s 5ms/step - loss: 0.1601 - acc: 0.9609 - val_loss: 0.1740 - val_acc: 0.9585\n",
            "Epoch 38/40\n",
            "1878/1878 [==============================] - 9s 5ms/step - loss: 0.1489 - acc: 0.9641 - val_loss: 0.1717 - val_acc: 0.9572\n",
            "Epoch 39/40\n",
            "1878/1878 [==============================] - 9s 5ms/step - loss: 0.1384 - acc: 0.9671 - val_loss: 0.1551 - val_acc: 0.9629\n",
            "Epoch 40/40\n",
            "1878/1878 [==============================] - 9s 5ms/step - loss: 0.1275 - acc: 0.9704 - val_loss: 0.1448 - val_acc: 0.9662\n"
          ],
          "name": "stdout"
        }
      ]
    },
    {
      "metadata": {
        "slideshow": {
          "slide_type": "slide"
        },
        "id": "5zNVFn7W22vM",
        "colab_type": "text"
      },
      "cell_type": "markdown",
      "source": [
        "If the results look too good, it's because they are too good! We need to ignore the classification of the padded symbols, but let's leave it aside for now. Below is an evaluation using the test data."
      ]
    },
    {
      "metadata": {
        "id": "8YVnb9mv22vP",
        "colab_type": "code",
        "outputId": "68d0e3d2-6464-4f23-e4e8-7d171703a4a1",
        "colab": {
          "base_uri": "https://localhost:8080/",
          "height": 53
        }
      },
      "cell_type": "code",
      "source": [
        "scores = model.evaluate(test_sentences_X, to_categorical(test_tags_y, len(tag2index)))\n",
        "print(f\"{model.metrics_names[1]}: {scores[1] * 100}\")"
      ],
      "execution_count": 14,
      "outputs": [
        {
          "output_type": "stream",
          "text": [
            "1566/1566 [==============================] - 11s 7ms/step\n",
            "acc: 96.64550643618841\n"
          ],
          "name": "stdout"
        }
      ]
    },
    {
      "metadata": {
        "slideshow": {
          "slide_type": "slide"
        },
        "id": "h197tLfl22vY",
        "colab_type": "text"
      },
      "cell_type": "markdown",
      "source": [
        "Let's find the PoS of two test sentences:"
      ]
    },
    {
      "metadata": {
        "id": "TJn9HsNN22va",
        "colab_type": "code",
        "outputId": "6d458fae-6abd-44bb-abbf-f00a034475c3",
        "colab": {
          "base_uri": "https://localhost:8080/",
          "height": 35
        }
      },
      "cell_type": "code",
      "source": [
        "test_samples = [\n",
        "    \"running is very important for me .\".split(),\n",
        "    \"I was running every day for a month .\".split()\n",
        "]\n",
        "print(test_samples)"
      ],
      "execution_count": 15,
      "outputs": [
        {
          "output_type": "stream",
          "text": [
            "[['running', 'is', 'very', 'important', 'for', 'me', '.'], ['I', 'was', 'running', 'every', 'day', 'for', 'a', 'month', '.']]\n"
          ],
          "name": "stdout"
        }
      ]
    },
    {
      "metadata": {
        "slideshow": {
          "slide_type": "slide"
        },
        "id": "NPD1nbGV22vf",
        "colab_type": "text"
      },
      "cell_type": "markdown",
      "source": [
        "These test sentences need to be vectorised:"
      ]
    },
    {
      "metadata": {
        "scrolled": true,
        "id": "DUSoAyOS22vg",
        "colab_type": "code",
        "outputId": "ed64225c-af56-4d16-e01d-887909971253",
        "colab": {
          "base_uri": "https://localhost:8080/",
          "height": 737
        }
      },
      "cell_type": "code",
      "source": [
        "test_samples_X = []\n",
        "for s in test_samples:\n",
        "    s_int = []\n",
        "    for w in s:\n",
        "        try:\n",
        "            s_int.append(word2index[w.lower()])\n",
        "        except KeyError:\n",
        "            s_int.append(word2index['-OOV-'])\n",
        "    test_samples_X.append(s_int)\n",
        " \n",
        "test_samples_X = pad_sequences(test_samples_X, maxlen=MAX_LENGTH, padding='post')\n",
        "print(test_samples_X)"
      ],
      "execution_count": 16,
      "outputs": [
        {
          "output_type": "stream",
          "text": [
            "[[1947 1538  307 3351 7766 3060 6831    0    0    0    0    0    0    0\n",
            "     0    0    0    0    0    0    0    0    0    0    0    0    0    0\n",
            "     0    0    0    0    0    0    0    0    0    0    0    0    0    0\n",
            "     0    0    0    0    0    0    0    0    0    0    0    0    0    0\n",
            "     0    0    0    0    0    0    0    0    0    0    0    0    0    0\n",
            "     0    0    0    0    0    0    0    0    0    0    0    0    0    0\n",
            "     0    0    0    0    0    0    0    0    0    0    0    0    0    0\n",
            "     0    0    0    0    0    0    0    0    0    0    0    0    0    0\n",
            "     0    0    0    0    0    0    0    0    0    0    0    0    0    0\n",
            "     0    0    0    0    0    0    0    0    0    0    0    0    0    0\n",
            "     0    0    0    0    0    0    0    0    0    0    0    0    0    0\n",
            "     0    0    0    0    0    0    0    0    0    0    0    0    0    0\n",
            "     0    0    0    0    0    0    0    0    0    0    0    0    0    0\n",
            "     0    0    0    0    0    0    0    0    0    0    0    0    0    0\n",
            "     0    0    0    0    0    0    0    0    0    0    0    0    0    0\n",
            "     0    0    0    0    0    0    0    0    0    0    0    0    0    0\n",
            "     0    0    0    0    0    0    0    0    0    0    0    0    0    0\n",
            "     0    0    0    0    0    0    0    0    0    0    0    0    0    0\n",
            "     0    0    0    0    0    0    0    0    0    0    0    0    0    0\n",
            "     0    0    0    0    0]\n",
            " [6467 2016 1947 1313 4424 7766 6040 2358 6831    0    0    0    0    0\n",
            "     0    0    0    0    0    0    0    0    0    0    0    0    0    0\n",
            "     0    0    0    0    0    0    0    0    0    0    0    0    0    0\n",
            "     0    0    0    0    0    0    0    0    0    0    0    0    0    0\n",
            "     0    0    0    0    0    0    0    0    0    0    0    0    0    0\n",
            "     0    0    0    0    0    0    0    0    0    0    0    0    0    0\n",
            "     0    0    0    0    0    0    0    0    0    0    0    0    0    0\n",
            "     0    0    0    0    0    0    0    0    0    0    0    0    0    0\n",
            "     0    0    0    0    0    0    0    0    0    0    0    0    0    0\n",
            "     0    0    0    0    0    0    0    0    0    0    0    0    0    0\n",
            "     0    0    0    0    0    0    0    0    0    0    0    0    0    0\n",
            "     0    0    0    0    0    0    0    0    0    0    0    0    0    0\n",
            "     0    0    0    0    0    0    0    0    0    0    0    0    0    0\n",
            "     0    0    0    0    0    0    0    0    0    0    0    0    0    0\n",
            "     0    0    0    0    0    0    0    0    0    0    0    0    0    0\n",
            "     0    0    0    0    0    0    0    0    0    0    0    0    0    0\n",
            "     0    0    0    0    0    0    0    0    0    0    0    0    0    0\n",
            "     0    0    0    0    0    0    0    0    0    0    0    0    0    0\n",
            "     0    0    0    0    0    0    0    0    0    0    0    0    0    0\n",
            "     0    0    0    0    0]]\n"
          ],
          "name": "stdout"
        }
      ]
    },
    {
      "metadata": {
        "slideshow": {
          "slide_type": "slide"
        },
        "id": "Y6rLuQb322vl",
        "colab_type": "text"
      },
      "cell_type": "markdown",
      "source": [
        "And the predictions are ..."
      ]
    },
    {
      "metadata": {
        "scrolled": true,
        "id": "r5Qgjrq622vn",
        "colab_type": "code",
        "outputId": "0381640b-32d1-492a-ec60-e4f990315b47",
        "colab": {
          "base_uri": "https://localhost:8080/",
          "height": 503
        }
      },
      "cell_type": "code",
      "source": [
        "predictions = model.predict(test_samples_X)\n",
        "print(predictions, predictions.shape)"
      ],
      "execution_count": 17,
      "outputs": [
        {
          "output_type": "stream",
          "text": [
            "[[[3.76531594e-02 1.47297652e-02 2.50692926e-02 ... 1.71638988e-02\n",
            "   3.13185081e-02 2.01013293e-02]\n",
            "  [3.76450792e-02 1.02725299e-02 2.28186492e-02 ... 1.47819789e-02\n",
            "   3.41623910e-02 2.07608156e-02]\n",
            "  [3.43763158e-02 5.01843169e-03 2.02158727e-02 ... 1.14209661e-02\n",
            "   4.11723331e-02 2.14138813e-02]\n",
            "  ...\n",
            "  [9.99945760e-01 2.47379238e-13 1.26558264e-10 ... 1.80510606e-11\n",
            "   9.91440288e-07 5.38341108e-11]\n",
            "  [9.99945760e-01 2.47376880e-13 1.26557778e-10 ... 1.80509583e-11\n",
            "   9.91438355e-07 5.38339026e-11]\n",
            "  [9.99945879e-01 2.47375037e-13 1.26557057e-10 ... 1.80507883e-11\n",
            "   9.91434717e-07 5.38336008e-11]]\n",
            "\n",
            " [[2.73831058e-02 1.55562880e-02 2.54227985e-02 ... 1.75938290e-02\n",
            "   2.91947685e-02 2.06104014e-02]\n",
            "  [3.70595083e-02 1.03689255e-02 2.79295594e-02 ... 1.45388581e-02\n",
            "   3.85050736e-02 1.98225062e-02]\n",
            "  [6.10151142e-02 4.14086645e-03 2.80714016e-02 ... 1.02367019e-02\n",
            "   5.41988276e-02 1.89223159e-02]\n",
            "  ...\n",
            "  [9.99945879e-01 2.47275019e-13 1.26526664e-10 ... 1.80434886e-11\n",
            "   9.91287266e-07 5.38207673e-11]\n",
            "  [9.99945879e-01 2.47274071e-13 1.26526428e-10 ... 1.80434209e-11\n",
            "   9.91286356e-07 5.38206667e-11]\n",
            "  [9.99945879e-01 2.47272201e-13 1.26525943e-10 ... 1.80433186e-11\n",
            "   9.91285447e-07 5.38204620e-11]]] (2, 271, 47)\n"
          ],
          "name": "stdout"
        }
      ]
    },
    {
      "metadata": {
        "slideshow": {
          "slide_type": "slide"
        },
        "id": "hYyJkHb_22vt",
        "colab_type": "text"
      },
      "cell_type": "markdown",
      "source": [
        "These predictions show, for each word, the probabilities assigned to each possible label. Let's choose the label with the highest probability (using numpy's `argmax`) and then convert from label index to label:"
      ]
    },
    {
      "metadata": {
        "id": "s1EEpd2K22vv",
        "colab_type": "code",
        "colab": {}
      },
      "cell_type": "code",
      "source": [
        "def logits_to_tokens(sequences, index):\n",
        "    token_sequences = []\n",
        "    for categorical_sequence in sequences:\n",
        "        token_sequence = []\n",
        "        for categorical in categorical_sequence:\n",
        "            token_sequence.append(index[np.argmax(categorical)])\n",
        " \n",
        "        token_sequences.append(token_sequence)\n",
        " \n",
        "    return token_sequences"
      ],
      "execution_count": 0,
      "outputs": []
    },
    {
      "metadata": {
        "scrolled": true,
        "id": "P-vgNHpt22vz",
        "colab_type": "code",
        "outputId": "b0692b26-2085-4c1b-dc8c-4ff32593957a",
        "colab": {
          "base_uri": "https://localhost:8080/",
          "height": 55
        }
      },
      "cell_type": "code",
      "source": [
        "print(logits_to_tokens(predictions, {i: t for t, i in tag2index.items()}))"
      ],
      "execution_count": 19,
      "outputs": [
        {
          "output_type": "stream",
          "text": [
            "[['-PAD-', 'NNP', 'NNP', 'NN', 'IN', 'NNS', '.', '-PAD-', '-PAD-', '-PAD-', '-PAD-', '-PAD-', '-PAD-', '-PAD-', '-PAD-', '-PAD-', '-PAD-', '-PAD-', '-PAD-', '-PAD-', '-PAD-', '-PAD-', '-PAD-', '-PAD-', '-PAD-', '-PAD-', '-PAD-', '-PAD-', '-PAD-', '-PAD-', '-PAD-', '-PAD-', '-PAD-', '-PAD-', '-PAD-', '-PAD-', '-PAD-', '-PAD-', '-PAD-', '-PAD-', '-PAD-', '-PAD-', '-PAD-', '-PAD-', '-PAD-', '-PAD-', '-PAD-', '-PAD-', '-PAD-', '-PAD-', '-PAD-', '-PAD-', '-PAD-', '-PAD-', '-PAD-', '-PAD-', '-PAD-', '-PAD-', '-PAD-', '-PAD-', '-PAD-', '-PAD-', '-PAD-', '-PAD-', '-PAD-', '-PAD-', '-PAD-', '-PAD-', '-PAD-', '-PAD-', '-PAD-', '-PAD-', '-PAD-', '-PAD-', '-PAD-', '-PAD-', '-PAD-', '-PAD-', '-PAD-', '-PAD-', '-PAD-', '-PAD-', '-PAD-', '-PAD-', '-PAD-', '-PAD-', '-PAD-', '-PAD-', '-PAD-', '-PAD-', '-PAD-', '-PAD-', '-PAD-', '-PAD-', '-PAD-', '-PAD-', '-PAD-', '-PAD-', '-PAD-', '-PAD-', '-PAD-', '-PAD-', '-PAD-', '-PAD-', '-PAD-', '-PAD-', '-PAD-', '-PAD-', '-PAD-', '-PAD-', '-PAD-', '-PAD-', '-PAD-', '-PAD-', '-PAD-', '-PAD-', '-PAD-', '-PAD-', '-PAD-', '-PAD-', '-PAD-', '-PAD-', '-PAD-', '-PAD-', '-PAD-', '-PAD-', '-PAD-', '-PAD-', '-PAD-', '-PAD-', '-PAD-', '-PAD-', '-PAD-', '-PAD-', '-PAD-', '-PAD-', '-PAD-', '-PAD-', '-PAD-', '-PAD-', '-PAD-', '-PAD-', '-PAD-', '-PAD-', '-PAD-', '-PAD-', '-PAD-', '-PAD-', '-PAD-', '-PAD-', '-PAD-', '-PAD-', '-PAD-', '-PAD-', '-PAD-', '-PAD-', '-PAD-', '-PAD-', '-PAD-', '-PAD-', '-PAD-', '-PAD-', '-PAD-', '-PAD-', '-PAD-', '-PAD-', '-PAD-', '-PAD-', '-PAD-', '-PAD-', '-PAD-', '-PAD-', '-PAD-', '-PAD-', '-PAD-', '-PAD-', '-PAD-', '-PAD-', '-PAD-', '-PAD-', '-PAD-', '-PAD-', '-PAD-', '-PAD-', '-PAD-', '-PAD-', '-PAD-', '-PAD-', '-PAD-', '-PAD-', '-PAD-', '-PAD-', '-PAD-', '-PAD-', '-PAD-', '-PAD-', '-PAD-', '-PAD-', '-PAD-', '-PAD-', '-PAD-', '-PAD-', '-PAD-', '-PAD-', '-PAD-', '-PAD-', '-PAD-', '-PAD-', '-PAD-', '-PAD-', '-PAD-', '-PAD-', '-PAD-', '-PAD-', '-PAD-', '-PAD-', '-PAD-', '-PAD-', '-PAD-', '-PAD-', '-PAD-', '-PAD-', '-PAD-', '-PAD-', '-PAD-', '-PAD-', '-PAD-', '-PAD-', '-PAD-', '-PAD-', '-PAD-', '-PAD-', '-PAD-', '-PAD-', '-PAD-', '-PAD-', '-PAD-', '-PAD-', '-PAD-', '-PAD-', '-PAD-', '-PAD-', '-PAD-', '-PAD-', '-PAD-', '-PAD-', '-PAD-', '-PAD-', '-PAD-', '-PAD-', '-PAD-', '-PAD-', '-PAD-', '-PAD-', '-PAD-', '-PAD-', '-PAD-', '-PAD-', '-PAD-', '-PAD-', '-PAD-', '-PAD-', '-PAD-', '-PAD-', '-PAD-', '-PAD-', '-PAD-', '-PAD-', '-PAD-', '-PAD-', '-PAD-'], ['DT', 'DT', '-PAD-', 'DT', 'NN', 'IN', 'DT', 'NN', '.', '-PAD-', '-PAD-', '-PAD-', '-PAD-', '-PAD-', '-PAD-', '-PAD-', '-PAD-', '-PAD-', '-PAD-', '-PAD-', '-PAD-', '-PAD-', '-PAD-', '-PAD-', '-PAD-', '-PAD-', '-PAD-', '-PAD-', '-PAD-', '-PAD-', '-PAD-', '-PAD-', '-PAD-', '-PAD-', '-PAD-', '-PAD-', '-PAD-', '-PAD-', '-PAD-', '-PAD-', '-PAD-', '-PAD-', '-PAD-', '-PAD-', '-PAD-', '-PAD-', '-PAD-', '-PAD-', '-PAD-', '-PAD-', '-PAD-', '-PAD-', '-PAD-', '-PAD-', '-PAD-', '-PAD-', '-PAD-', '-PAD-', '-PAD-', '-PAD-', '-PAD-', '-PAD-', '-PAD-', '-PAD-', '-PAD-', '-PAD-', '-PAD-', '-PAD-', '-PAD-', '-PAD-', '-PAD-', '-PAD-', '-PAD-', '-PAD-', '-PAD-', '-PAD-', '-PAD-', '-PAD-', '-PAD-', '-PAD-', '-PAD-', '-PAD-', '-PAD-', '-PAD-', '-PAD-', '-PAD-', '-PAD-', '-PAD-', '-PAD-', '-PAD-', '-PAD-', '-PAD-', '-PAD-', '-PAD-', '-PAD-', '-PAD-', '-PAD-', '-PAD-', '-PAD-', '-PAD-', '-PAD-', '-PAD-', '-PAD-', '-PAD-', '-PAD-', '-PAD-', '-PAD-', '-PAD-', '-PAD-', '-PAD-', '-PAD-', '-PAD-', '-PAD-', '-PAD-', '-PAD-', '-PAD-', '-PAD-', '-PAD-', '-PAD-', '-PAD-', '-PAD-', '-PAD-', '-PAD-', '-PAD-', '-PAD-', '-PAD-', '-PAD-', '-PAD-', '-PAD-', '-PAD-', '-PAD-', '-PAD-', '-PAD-', '-PAD-', '-PAD-', '-PAD-', '-PAD-', '-PAD-', '-PAD-', '-PAD-', '-PAD-', '-PAD-', '-PAD-', '-PAD-', '-PAD-', '-PAD-', '-PAD-', '-PAD-', '-PAD-', '-PAD-', '-PAD-', '-PAD-', '-PAD-', '-PAD-', '-PAD-', '-PAD-', '-PAD-', '-PAD-', '-PAD-', '-PAD-', '-PAD-', '-PAD-', '-PAD-', '-PAD-', '-PAD-', '-PAD-', '-PAD-', '-PAD-', '-PAD-', '-PAD-', '-PAD-', '-PAD-', '-PAD-', '-PAD-', '-PAD-', '-PAD-', '-PAD-', '-PAD-', '-PAD-', '-PAD-', '-PAD-', '-PAD-', '-PAD-', '-PAD-', '-PAD-', '-PAD-', '-PAD-', '-PAD-', '-PAD-', '-PAD-', '-PAD-', '-PAD-', '-PAD-', '-PAD-', '-PAD-', '-PAD-', '-PAD-', '-PAD-', '-PAD-', '-PAD-', '-PAD-', '-PAD-', '-PAD-', '-PAD-', '-PAD-', '-PAD-', '-PAD-', '-PAD-', '-PAD-', '-PAD-', '-PAD-', '-PAD-', '-PAD-', '-PAD-', '-PAD-', '-PAD-', '-PAD-', '-PAD-', '-PAD-', '-PAD-', '-PAD-', '-PAD-', '-PAD-', '-PAD-', '-PAD-', '-PAD-', '-PAD-', '-PAD-', '-PAD-', '-PAD-', '-PAD-', '-PAD-', '-PAD-', '-PAD-', '-PAD-', '-PAD-', '-PAD-', '-PAD-', '-PAD-', '-PAD-', '-PAD-', '-PAD-', '-PAD-', '-PAD-', '-PAD-', '-PAD-', '-PAD-', '-PAD-', '-PAD-', '-PAD-', '-PAD-', '-PAD-', '-PAD-', '-PAD-', '-PAD-', '-PAD-', '-PAD-', '-PAD-', '-PAD-', '-PAD-', '-PAD-', '-PAD-', '-PAD-', '-PAD-', '-PAD-', '-PAD-', '-PAD-', '-PAD-', '-PAD-', '-PAD-', '-PAD-']]\n"
          ],
          "name": "stdout"
        }
      ]
    },
    {
      "metadata": {
        "slideshow": {
          "slide_type": "slide"
        },
        "id": "xUAVFac_22v6",
        "colab_type": "text"
      },
      "cell_type": "markdown",
      "source": [
        "As expected, the padding symbol is over-used. To solve this problem we can define a custom accuracy metric that ignores the paddings. Remember that the index for the padding symbol is 0:"
      ]
    },
    {
      "metadata": {
        "id": "htLSFx1722v8",
        "colab_type": "code",
        "colab": {}
      },
      "cell_type": "code",
      "source": [
        "from keras import backend as K\n",
        " \n",
        "def ignore_class_accuracy(to_ignore=0):\n",
        "    def ignore_accuracy(y_true, y_pred):\n",
        "        y_true_class = K.argmax(y_true, axis=-1)\n",
        "        y_pred_class = K.argmax(y_pred, axis=-1)\n",
        " \n",
        "        ignore_mask = K.cast(K.not_equal(y_pred_class, to_ignore), 'int32')\n",
        "        matches = K.cast(K.equal(y_true_class, y_pred_class), 'int32') * ignore_mask\n",
        "        accuracy = K.sum(matches) / K.maximum(K.sum(ignore_mask), 1)\n",
        "        return accuracy\n",
        "    return ignore_accuracy"
      ],
      "execution_count": 0,
      "outputs": []
    },
    {
      "metadata": {
        "slideshow": {
          "slide_type": "slide"
        },
        "id": "owboYAh022v_",
        "colab_type": "text"
      },
      "cell_type": "markdown",
      "source": [
        "Let's now retrain using this new accuracy metric:"
      ]
    },
    {
      "metadata": {
        "id": "Adx9EbTB22wC",
        "colab_type": "code",
        "outputId": "d547c2d4-bf91-4c91-c219-5b229f31b067",
        "colab": {
          "base_uri": "https://localhost:8080/",
          "height": 287
        }
      },
      "cell_type": "code",
      "source": [
        "from keras.models import Sequential\n",
        "from keras.layers import Dense, LSTM, InputLayer, TimeDistributed, Embedding, Activation\n",
        "from keras.optimizers import Adam\n",
        " \n",
        " \n",
        "model = Sequential()\n",
        "model.add(InputLayer(input_shape=(MAX_LENGTH, )))\n",
        "model.add(Embedding(len(word2index), 128))\n",
        "model.add(LSTM(256, return_sequences=True))\n",
        "model.add(TimeDistributed(Dense(len(tag2index))))\n",
        "model.add(Activation('softmax'))\n",
        " \n",
        "model.compile(loss='categorical_crossentropy',\n",
        "              optimizer=Adam(0.001),\n",
        "              metrics=['accuracy', ignore_class_accuracy(0)])\n",
        " \n",
        "model.summary()"
      ],
      "execution_count": 21,
      "outputs": [
        {
          "output_type": "stream",
          "text": [
            "_________________________________________________________________\n",
            "Layer (type)                 Output Shape              Param #   \n",
            "=================================================================\n",
            "embedding_2 (Embedding)      (None, 271, 128)          1111424   \n",
            "_________________________________________________________________\n",
            "lstm_2 (LSTM)                (None, 271, 256)          394240    \n",
            "_________________________________________________________________\n",
            "time_distributed_2 (TimeDist (None, 271, 47)           12079     \n",
            "_________________________________________________________________\n",
            "activation_2 (Activation)    (None, 271, 47)           0         \n",
            "=================================================================\n",
            "Total params: 1,517,743\n",
            "Trainable params: 1,517,743\n",
            "Non-trainable params: 0\n",
            "_________________________________________________________________\n"
          ],
          "name": "stdout"
        }
      ]
    },
    {
      "metadata": {
        "slideshow": {
          "slide_type": "slide"
        },
        "id": "vglktjZL22wI",
        "colab_type": "code",
        "outputId": "da3f6795-596d-4522-b33f-924fb2a72728",
        "colab": {
          "base_uri": "https://localhost:8080/",
          "height": 3635
        }
      },
      "cell_type": "code",
      "source": [
        "from keras.callbacks import EarlyStopping\n",
        "history = model.fit(train_sentences_X, cat_train_tags_y, batch_size=128, epochs=100, validation_split=0.2) #,\n",
        "#                    callbacks=[EarlyStopping(monitor='val_ignore_accuracy')])"
      ],
      "execution_count": 22,
      "outputs": [
        {
          "output_type": "stream",
          "text": [
            "Train on 1878 samples, validate on 470 samples\n",
            "Epoch 1/100\n",
            "1878/1878 [==============================] - 10s 5ms/step - loss: 1.8117 - acc: 0.8438 - ignore_accuracy: 0.0062 - val_loss: 0.6134 - val_acc: 0.9036 - val_ignore_accuracy: 0.0000e+00\n",
            "Epoch 2/100\n",
            "1878/1878 [==============================] - 9s 5ms/step - loss: 0.5924 - acc: 0.8922 - ignore_accuracy: 0.0467 - val_loss: 0.4488 - val_acc: 0.9039 - val_ignore_accuracy: 0.1309\n",
            "Epoch 3/100\n",
            "1878/1878 [==============================] - 9s 5ms/step - loss: 0.4093 - acc: 0.9061 - ignore_accuracy: 0.1774 - val_loss: 0.4021 - val_acc: 0.9041 - val_ignore_accuracy: 0.1892\n",
            "Epoch 4/100\n",
            "1878/1878 [==============================] - 9s 5ms/step - loss: 0.3896 - acc: 0.9061 - ignore_accuracy: 0.2106 - val_loss: 0.3980 - val_acc: 0.9039 - val_ignore_accuracy: 0.2012\n",
            "Epoch 5/100\n",
            "1878/1878 [==============================] - 9s 5ms/step - loss: 0.3749 - acc: 0.9059 - ignore_accuracy: 0.1553 - val_loss: 0.3839 - val_acc: 0.9039 - val_ignore_accuracy: 0.1400\n",
            "Epoch 6/100\n",
            "1878/1878 [==============================] - 9s 5ms/step - loss: 0.3637 - acc: 0.9060 - ignore_accuracy: 0.1498 - val_loss: 0.3794 - val_acc: 0.9039 - val_ignore_accuracy: 0.0923\n",
            "Epoch 7/100\n",
            "1878/1878 [==============================] - 9s 5ms/step - loss: 0.3555 - acc: 0.9060 - ignore_accuracy: 0.1210 - val_loss: 0.3752 - val_acc: 0.9039 - val_ignore_accuracy: 0.0732\n",
            "Epoch 8/100\n",
            "1878/1878 [==============================] - 9s 5ms/step - loss: 0.3466 - acc: 0.9061 - ignore_accuracy: 0.1141 - val_loss: 0.3799 - val_acc: 0.9040 - val_ignore_accuracy: 0.0744\n",
            "Epoch 9/100\n",
            "1878/1878 [==============================] - 9s 5ms/step - loss: 0.3384 - acc: 0.9063 - ignore_accuracy: 0.1120 - val_loss: 0.3682 - val_acc: 0.9041 - val_ignore_accuracy: 0.0718\n",
            "Epoch 10/100\n",
            "1878/1878 [==============================] - 9s 5ms/step - loss: 0.3313 - acc: 0.9069 - ignore_accuracy: 0.1147 - val_loss: 0.3688 - val_acc: 0.9053 - val_ignore_accuracy: 0.1151\n",
            "Epoch 11/100\n",
            "1878/1878 [==============================] - 9s 5ms/step - loss: 0.3258 - acc: 0.9091 - ignore_accuracy: 0.1200 - val_loss: 0.3652 - val_acc: 0.9083 - val_ignore_accuracy: 0.1279\n",
            "Epoch 12/100\n",
            "1878/1878 [==============================] - 9s 5ms/step - loss: 0.3238 - acc: 0.9115 - ignore_accuracy: 0.1246 - val_loss: 0.3485 - val_acc: 0.9111 - val_ignore_accuracy: 0.1292\n",
            "Epoch 13/100\n",
            "1878/1878 [==============================] - 9s 5ms/step - loss: 0.3238 - acc: 0.9132 - ignore_accuracy: 0.1270 - val_loss: 0.3644 - val_acc: 0.9103 - val_ignore_accuracy: 0.1270\n",
            "Epoch 14/100\n",
            "1878/1878 [==============================] - 9s 5ms/step - loss: 0.3155 - acc: 0.9135 - ignore_accuracy: 0.1262 - val_loss: 0.3506 - val_acc: 0.9121 - val_ignore_accuracy: 0.1316\n",
            "Epoch 15/100\n",
            "1878/1878 [==============================] - 9s 5ms/step - loss: 0.3164 - acc: 0.9145 - ignore_accuracy: 0.1296 - val_loss: 0.3692 - val_acc: 0.9109 - val_ignore_accuracy: 0.1289\n",
            "Epoch 16/100\n",
            "1878/1878 [==============================] - 9s 5ms/step - loss: 0.3093 - acc: 0.9147 - ignore_accuracy: 0.1290 - val_loss: 0.3444 - val_acc: 0.9132 - val_ignore_accuracy: 0.1345\n",
            "Epoch 17/100\n",
            "1878/1878 [==============================] - 9s 5ms/step - loss: 0.3053 - acc: 0.9157 - ignore_accuracy: 0.1318 - val_loss: 0.3532 - val_acc: 0.9135 - val_ignore_accuracy: 0.1349\n",
            "Epoch 18/100\n",
            "1878/1878 [==============================] - 9s 5ms/step - loss: 0.3013 - acc: 0.9162 - ignore_accuracy: 0.1328 - val_loss: 0.3613 - val_acc: 0.9140 - val_ignore_accuracy: 0.1392\n",
            "Epoch 19/100\n",
            "1878/1878 [==============================] - 9s 5ms/step - loss: 0.2976 - acc: 0.9170 - ignore_accuracy: 0.1378 - val_loss: 0.3683 - val_acc: 0.9146 - val_ignore_accuracy: 0.1436\n",
            "Epoch 20/100\n",
            "1878/1878 [==============================] - 9s 5ms/step - loss: 0.2944 - acc: 0.9181 - ignore_accuracy: 0.1472 - val_loss: 0.3776 - val_acc: 0.9150 - val_ignore_accuracy: 0.1481\n",
            "Epoch 21/100\n",
            "1878/1878 [==============================] - 9s 5ms/step - loss: 0.2917 - acc: 0.9194 - ignore_accuracy: 0.1584 - val_loss: 0.3835 - val_acc: 0.9154 - val_ignore_accuracy: 0.1525\n",
            "Epoch 22/100\n",
            "1878/1878 [==============================] - 9s 5ms/step - loss: 0.2899 - acc: 0.9200 - ignore_accuracy: 0.1644 - val_loss: 0.3197 - val_acc: 0.9141 - val_ignore_accuracy: 0.1457\n",
            "Epoch 23/100\n",
            "1878/1878 [==============================] - 9s 5ms/step - loss: 0.2953 - acc: 0.9197 - ignore_accuracy: 0.1653 - val_loss: 0.3090 - val_acc: 0.9194 - val_ignore_accuracy: 0.1759\n",
            "Epoch 24/100\n",
            "1878/1878 [==============================] - 9s 5ms/step - loss: 0.2864 - acc: 0.9207 - ignore_accuracy: 0.1711 - val_loss: 0.3081 - val_acc: 0.9202 - val_ignore_accuracy: 0.1857\n",
            "Epoch 25/100\n",
            "1878/1878 [==============================] - 9s 5ms/step - loss: 0.2826 - acc: 0.9224 - ignore_accuracy: 0.1876 - val_loss: 0.3077 - val_acc: 0.9212 - val_ignore_accuracy: 0.1960\n",
            "Epoch 26/100\n",
            "1878/1878 [==============================] - 9s 5ms/step - loss: 0.2794 - acc: 0.9233 - ignore_accuracy: 0.1956 - val_loss: 0.3163 - val_acc: 0.9211 - val_ignore_accuracy: 0.1984\n",
            "Epoch 27/100\n",
            "1878/1878 [==============================] - 9s 5ms/step - loss: 0.2764 - acc: 0.9234 - ignore_accuracy: 0.1962 - val_loss: 0.3137 - val_acc: 0.9212 - val_ignore_accuracy: 0.1985\n",
            "Epoch 28/100\n",
            "1878/1878 [==============================] - 9s 5ms/step - loss: 0.2734 - acc: 0.9236 - ignore_accuracy: 0.1970 - val_loss: 0.3248 - val_acc: 0.9211 - val_ignore_accuracy: 0.2025\n",
            "Epoch 29/100\n",
            "1878/1878 [==============================] - 9s 5ms/step - loss: 0.2703 - acc: 0.9245 - ignore_accuracy: 0.2067 - val_loss: 0.3140 - val_acc: 0.9220 - val_ignore_accuracy: 0.2087\n",
            "Epoch 30/100\n",
            "1878/1878 [==============================] - 9s 5ms/step - loss: 0.2667 - acc: 0.9254 - ignore_accuracy: 0.2152 - val_loss: 0.3111 - val_acc: 0.9230 - val_ignore_accuracy: 0.2199\n",
            "Epoch 31/100\n",
            "1878/1878 [==============================] - 9s 5ms/step - loss: 0.2627 - acc: 0.9271 - ignore_accuracy: 0.2332 - val_loss: 0.3102 - val_acc: 0.9244 - val_ignore_accuracy: 0.2374\n",
            "Epoch 32/100\n",
            "1878/1878 [==============================] - 9s 5ms/step - loss: 0.2578 - acc: 0.9287 - ignore_accuracy: 0.2504 - val_loss: 0.2986 - val_acc: 0.9271 - val_ignore_accuracy: 0.2647\n",
            "Epoch 33/100\n",
            "1878/1878 [==============================] - 9s 5ms/step - loss: 0.2521 - acc: 0.9317 - ignore_accuracy: 0.2826 - val_loss: 0.2955 - val_acc: 0.9270 - val_ignore_accuracy: 0.2656\n",
            "Epoch 34/100\n",
            "1878/1878 [==============================] - 9s 5ms/step - loss: 0.2452 - acc: 0.9335 - ignore_accuracy: 0.3014 - val_loss: 0.2799 - val_acc: 0.9303 - val_ignore_accuracy: 0.2976\n",
            "Epoch 35/100\n",
            "1878/1878 [==============================] - 9s 5ms/step - loss: 0.2371 - acc: 0.9356 - ignore_accuracy: 0.3246 - val_loss: 0.2693 - val_acc: 0.9321 - val_ignore_accuracy: 0.3163\n",
            "Epoch 36/100\n",
            "1878/1878 [==============================] - 9s 5ms/step - loss: 0.2281 - acc: 0.9378 - ignore_accuracy: 0.3482 - val_loss: 0.2640 - val_acc: 0.9339 - val_ignore_accuracy: 0.3396\n",
            "Epoch 37/100\n",
            "1878/1878 [==============================] - 9s 5ms/step - loss: 0.2180 - acc: 0.9410 - ignore_accuracy: 0.3826 - val_loss: 0.2445 - val_acc: 0.9380 - val_ignore_accuracy: 0.3797\n",
            "Epoch 38/100\n",
            "1878/1878 [==============================] - 9s 5ms/step - loss: 0.2070 - acc: 0.9449 - ignore_accuracy: 0.4251 - val_loss: 0.2245 - val_acc: 0.9440 - val_ignore_accuracy: 0.4365\n",
            "Epoch 39/100\n",
            "1878/1878 [==============================] - 9s 5ms/step - loss: 0.1958 - acc: 0.9492 - ignore_accuracy: 0.4708 - val_loss: 0.2158 - val_acc: 0.9463 - val_ignore_accuracy: 0.4652\n",
            "Epoch 40/100\n",
            "1878/1878 [==============================] - 9s 5ms/step - loss: 0.1841 - acc: 0.9533 - ignore_accuracy: 0.5144 - val_loss: 0.2048 - val_acc: 0.9491 - val_ignore_accuracy: 0.4949\n",
            "Epoch 41/100\n",
            "1878/1878 [==============================] - 9s 5ms/step - loss: 0.5448 - acc: 0.8959 - ignore_accuracy: 0.5117 - val_loss: 0.2227 - val_acc: 0.9511 - val_ignore_accuracy: 0.5035\n",
            "Epoch 42/100\n",
            "1878/1878 [==============================] - 9s 5ms/step - loss: 0.1996 - acc: 0.9502 - ignore_accuracy: 0.4968 - val_loss: 0.2030 - val_acc: 0.9510 - val_ignore_accuracy: 0.5072\n",
            "Epoch 43/100\n",
            "1878/1878 [==============================] - 9s 5ms/step - loss: 0.1835 - acc: 0.9537 - ignore_accuracy: 0.5357 - val_loss: 0.1876 - val_acc: 0.9521 - val_ignore_accuracy: 0.5380\n",
            "Epoch 44/100\n",
            "1878/1878 [==============================] - 9s 5ms/step - loss: 0.1706 - acc: 0.9581 - ignore_accuracy: 0.5796 - val_loss: 0.1774 - val_acc: 0.9572 - val_ignore_accuracy: 0.5750\n",
            "Epoch 45/100\n",
            "1878/1878 [==============================] - 9s 5ms/step - loss: 0.1617 - acc: 0.9611 - ignore_accuracy: 0.6066 - val_loss: 0.1701 - val_acc: 0.9597 - val_ignore_accuracy: 0.5996\n",
            "Epoch 46/100\n",
            "1878/1878 [==============================] - 9s 5ms/step - loss: 0.1543 - acc: 0.9632 - ignore_accuracy: 0.6270 - val_loss: 0.1638 - val_acc: 0.9605 - val_ignore_accuracy: 0.6074\n",
            "Epoch 47/100\n",
            "1878/1878 [==============================] - 9s 5ms/step - loss: 0.1477 - acc: 0.9647 - ignore_accuracy: 0.6411 - val_loss: 0.1582 - val_acc: 0.9618 - val_ignore_accuracy: 0.6199\n",
            "Epoch 48/100\n",
            "1878/1878 [==============================] - 9s 5ms/step - loss: 0.1416 - acc: 0.9661 - ignore_accuracy: 0.6550 - val_loss: 0.1528 - val_acc: 0.9629 - val_ignore_accuracy: 0.6302\n",
            "Epoch 49/100\n",
            "1878/1878 [==============================] - 9s 5ms/step - loss: 0.1358 - acc: 0.9675 - ignore_accuracy: 0.6690 - val_loss: 0.1477 - val_acc: 0.9641 - val_ignore_accuracy: 0.6421\n",
            "Epoch 50/100\n",
            "1878/1878 [==============================] - 9s 5ms/step - loss: 0.1302 - acc: 0.9691 - ignore_accuracy: 0.6847 - val_loss: 0.1429 - val_acc: 0.9650 - val_ignore_accuracy: 0.6510\n",
            "Epoch 51/100\n",
            "1878/1878 [==============================] - 9s 5ms/step - loss: 0.1250 - acc: 0.9704 - ignore_accuracy: 0.6978 - val_loss: 0.1383 - val_acc: 0.9661 - val_ignore_accuracy: 0.6600\n",
            "Epoch 52/100\n",
            "1878/1878 [==============================] - 9s 5ms/step - loss: 0.1199 - acc: 0.9719 - ignore_accuracy: 0.7121 - val_loss: 0.1338 - val_acc: 0.9677 - val_ignore_accuracy: 0.6757\n",
            "Epoch 53/100\n",
            "1878/1878 [==============================] - 9s 5ms/step - loss: 0.1150 - acc: 0.9732 - ignore_accuracy: 0.7257 - val_loss: 0.1296 - val_acc: 0.9689 - val_ignore_accuracy: 0.6872\n",
            "Epoch 54/100\n",
            "1878/1878 [==============================] - 9s 5ms/step - loss: 0.1103 - acc: 0.9747 - ignore_accuracy: 0.7407 - val_loss: 0.1256 - val_acc: 0.9703 - val_ignore_accuracy: 0.7009\n",
            "Epoch 55/100\n",
            "1878/1878 [==============================] - 9s 5ms/step - loss: 0.1058 - acc: 0.9759 - ignore_accuracy: 0.7535 - val_loss: 0.1216 - val_acc: 0.9715 - val_ignore_accuracy: 0.7126\n",
            "Epoch 56/100\n",
            "1878/1878 [==============================] - 9s 5ms/step - loss: 0.1013 - acc: 0.9775 - ignore_accuracy: 0.7694 - val_loss: 0.1178 - val_acc: 0.9728 - val_ignore_accuracy: 0.7249\n",
            "Epoch 57/100\n",
            "1878/1878 [==============================] - 9s 5ms/step - loss: 0.0970 - acc: 0.9788 - ignore_accuracy: 0.7821 - val_loss: 0.1142 - val_acc: 0.9734 - val_ignore_accuracy: 0.7314\n",
            "Epoch 58/100\n",
            "1878/1878 [==============================] - 9s 5ms/step - loss: 0.0929 - acc: 0.9799 - ignore_accuracy: 0.7928 - val_loss: 0.1106 - val_acc: 0.9746 - val_ignore_accuracy: 0.7422\n",
            "Epoch 59/100\n",
            "1878/1878 [==============================] - 9s 5ms/step - loss: 0.0888 - acc: 0.9809 - ignore_accuracy: 0.8033 - val_loss: 0.1072 - val_acc: 0.9754 - val_ignore_accuracy: 0.7502\n",
            "Epoch 60/100\n",
            "1878/1878 [==============================] - 9s 5ms/step - loss: 0.0849 - acc: 0.9819 - ignore_accuracy: 0.8131 - val_loss: 0.1038 - val_acc: 0.9763 - val_ignore_accuracy: 0.7598\n",
            "Epoch 61/100\n",
            "1878/1878 [==============================] - 9s 5ms/step - loss: 0.0810 - acc: 0.9829 - ignore_accuracy: 0.8233 - val_loss: 0.1006 - val_acc: 0.9770 - val_ignore_accuracy: 0.7669\n",
            "Epoch 62/100\n",
            "1878/1878 [==============================] - 9s 5ms/step - loss: 0.0774 - acc: 0.9837 - ignore_accuracy: 0.8318 - val_loss: 0.0975 - val_acc: 0.9777 - val_ignore_accuracy: 0.7728\n",
            "Epoch 63/100\n",
            "1878/1878 [==============================] - 9s 5ms/step - loss: 0.0738 - acc: 0.9846 - ignore_accuracy: 0.8404 - val_loss: 0.0945 - val_acc: 0.9783 - val_ignore_accuracy: 0.7800\n",
            "Epoch 64/100\n",
            "1878/1878 [==============================] - 9s 5ms/step - loss: 0.0704 - acc: 0.9854 - ignore_accuracy: 0.8487 - val_loss: 0.0917 - val_acc: 0.9791 - val_ignore_accuracy: 0.7874\n",
            "Epoch 65/100\n",
            "1878/1878 [==============================] - 9s 5ms/step - loss: 0.0671 - acc: 0.9863 - ignore_accuracy: 0.8583 - val_loss: 0.0891 - val_acc: 0.9799 - val_ignore_accuracy: 0.7949\n",
            "Epoch 66/100\n",
            "1878/1878 [==============================] - 9s 5ms/step - loss: 0.0640 - acc: 0.9871 - ignore_accuracy: 0.8671 - val_loss: 0.0866 - val_acc: 0.9804 - val_ignore_accuracy: 0.8004\n",
            "Epoch 67/100\n",
            "1878/1878 [==============================] - 9s 5ms/step - loss: 0.0610 - acc: 0.9879 - ignore_accuracy: 0.8752 - val_loss: 0.0840 - val_acc: 0.9810 - val_ignore_accuracy: 0.8058\n",
            "Epoch 68/100\n",
            "1878/1878 [==============================] - 9s 5ms/step - loss: 0.0581 - acc: 0.9886 - ignore_accuracy: 0.8817 - val_loss: 0.0817 - val_acc: 0.9815 - val_ignore_accuracy: 0.8106\n",
            "Epoch 69/100\n",
            "1878/1878 [==============================] - 9s 5ms/step - loss: 0.0553 - acc: 0.9892 - ignore_accuracy: 0.8885 - val_loss: 0.0795 - val_acc: 0.9822 - val_ignore_accuracy: 0.8180\n",
            "Epoch 70/100\n",
            "1878/1878 [==============================] - 9s 5ms/step - loss: 0.0527 - acc: 0.9899 - ignore_accuracy: 0.8955 - val_loss: 0.0776 - val_acc: 0.9827 - val_ignore_accuracy: 0.8230\n",
            "Epoch 71/100\n",
            "1878/1878 [==============================] - 9s 5ms/step - loss: 0.0502 - acc: 0.9905 - ignore_accuracy: 0.9016 - val_loss: 0.0755 - val_acc: 0.9832 - val_ignore_accuracy: 0.8282\n",
            "Epoch 72/100\n",
            "1878/1878 [==============================] - 9s 5ms/step - loss: 0.0478 - acc: 0.9909 - ignore_accuracy: 0.9057 - val_loss: 0.0737 - val_acc: 0.9835 - val_ignore_accuracy: 0.8312\n",
            "Epoch 73/100\n",
            "1878/1878 [==============================] - 9s 5ms/step - loss: 0.0456 - acc: 0.9913 - ignore_accuracy: 0.9101 - val_loss: 0.0721 - val_acc: 0.9840 - val_ignore_accuracy: 0.8358\n",
            "Epoch 74/100\n",
            "1878/1878 [==============================] - 9s 5ms/step - loss: 0.0435 - acc: 0.9919 - ignore_accuracy: 0.9157 - val_loss: 0.0707 - val_acc: 0.9844 - val_ignore_accuracy: 0.8401\n",
            "Epoch 75/100\n",
            "1878/1878 [==============================] - 9s 5ms/step - loss: 0.0415 - acc: 0.9922 - ignore_accuracy: 0.9194 - val_loss: 0.0690 - val_acc: 0.9846 - val_ignore_accuracy: 0.8423\n",
            "Epoch 76/100\n",
            "1878/1878 [==============================] - 9s 5ms/step - loss: 0.0397 - acc: 0.9926 - ignore_accuracy: 0.9228 - val_loss: 0.0676 - val_acc: 0.9848 - val_ignore_accuracy: 0.8450\n",
            "Epoch 77/100\n",
            "1878/1878 [==============================] - 9s 5ms/step - loss: 0.0379 - acc: 0.9930 - ignore_accuracy: 0.9267 - val_loss: 0.0663 - val_acc: 0.9851 - val_ignore_accuracy: 0.8475\n",
            "Epoch 78/100\n",
            "1878/1878 [==============================] - 9s 5ms/step - loss: 0.0362 - acc: 0.9933 - ignore_accuracy: 0.9298 - val_loss: 0.0650 - val_acc: 0.9852 - val_ignore_accuracy: 0.8489\n",
            "Epoch 79/100\n",
            "1878/1878 [==============================] - 9s 5ms/step - loss: 0.0347 - acc: 0.9936 - ignore_accuracy: 0.9328 - val_loss: 0.0640 - val_acc: 0.9855 - val_ignore_accuracy: 0.8515\n",
            "Epoch 80/100\n",
            "1878/1878 [==============================] - 9s 5ms/step - loss: 0.0332 - acc: 0.9938 - ignore_accuracy: 0.9356 - val_loss: 0.0631 - val_acc: 0.9856 - val_ignore_accuracy: 0.8531\n",
            "Epoch 81/100\n",
            "1878/1878 [==============================] - 9s 5ms/step - loss: 0.0318 - acc: 0.9940 - ignore_accuracy: 0.9378 - val_loss: 0.0621 - val_acc: 0.9858 - val_ignore_accuracy: 0.8545\n",
            "Epoch 82/100\n",
            "1878/1878 [==============================] - 9s 5ms/step - loss: 0.0305 - acc: 0.9944 - ignore_accuracy: 0.9408 - val_loss: 0.0611 - val_acc: 0.9859 - val_ignore_accuracy: 0.8557\n",
            "Epoch 83/100\n",
            "1878/1878 [==============================] - 9s 5ms/step - loss: 0.0294 - acc: 0.9945 - ignore_accuracy: 0.9426 - val_loss: 0.0602 - val_acc: 0.9861 - val_ignore_accuracy: 0.8577\n",
            "Epoch 84/100\n",
            "1878/1878 [==============================] - 9s 5ms/step - loss: 0.0282 - acc: 0.9947 - ignore_accuracy: 0.9444 - val_loss: 0.0594 - val_acc: 0.9863 - val_ignore_accuracy: 0.8596\n",
            "Epoch 85/100\n",
            "1878/1878 [==============================] - 9s 5ms/step - loss: 0.0271 - acc: 0.9949 - ignore_accuracy: 0.9467 - val_loss: 0.0588 - val_acc: 0.9864 - val_ignore_accuracy: 0.8612\n",
            "Epoch 86/100\n",
            "1878/1878 [==============================] - 9s 5ms/step - loss: 0.0261 - acc: 0.9951 - ignore_accuracy: 0.9485 - val_loss: 0.0583 - val_acc: 0.9865 - val_ignore_accuracy: 0.8613\n",
            "Epoch 87/100\n",
            "1878/1878 [==============================] - 9s 5ms/step - loss: 0.0251 - acc: 0.9953 - ignore_accuracy: 0.9505 - val_loss: 0.0575 - val_acc: 0.9867 - val_ignore_accuracy: 0.8633\n",
            "Epoch 88/100\n",
            "1878/1878 [==============================] - 9s 5ms/step - loss: 0.0242 - acc: 0.9954 - ignore_accuracy: 0.9520 - val_loss: 0.0572 - val_acc: 0.9869 - val_ignore_accuracy: 0.8660\n",
            "Epoch 89/100\n",
            "1878/1878 [==============================] - 9s 5ms/step - loss: 0.0234 - acc: 0.9957 - ignore_accuracy: 0.9548 - val_loss: 0.0565 - val_acc: 0.9870 - val_ignore_accuracy: 0.8665\n",
            "Epoch 90/100\n",
            "1878/1878 [==============================] - 9s 5ms/step - loss: 0.0226 - acc: 0.9959 - ignore_accuracy: 0.9569 - val_loss: 0.0561 - val_acc: 0.9871 - val_ignore_accuracy: 0.8669\n",
            "Epoch 91/100\n",
            "1878/1878 [==============================] - 9s 5ms/step - loss: 0.0218 - acc: 0.9960 - ignore_accuracy: 0.9577 - val_loss: 0.0556 - val_acc: 0.9872 - val_ignore_accuracy: 0.8682\n",
            "Epoch 92/100\n",
            "1878/1878 [==============================] - 9s 5ms/step - loss: 0.0211 - acc: 0.9961 - ignore_accuracy: 0.9591 - val_loss: 0.0551 - val_acc: 0.9872 - val_ignore_accuracy: 0.8689\n",
            "Epoch 93/100\n",
            "1878/1878 [==============================] - 9s 5ms/step - loss: 0.0204 - acc: 0.9962 - ignore_accuracy: 0.9603 - val_loss: 0.0546 - val_acc: 0.9872 - val_ignore_accuracy: 0.8687\n",
            "Epoch 94/100\n",
            "1878/1878 [==============================] - 9s 5ms/step - loss: 0.0198 - acc: 0.9963 - ignore_accuracy: 0.9615 - val_loss: 0.0544 - val_acc: 0.9874 - val_ignore_accuracy: 0.8704\n",
            "Epoch 95/100\n",
            "1878/1878 [==============================] - 9s 5ms/step - loss: 0.0192 - acc: 0.9964 - ignore_accuracy: 0.9623 - val_loss: 0.0542 - val_acc: 0.9873 - val_ignore_accuracy: 0.8696\n",
            "Epoch 96/100\n",
            "1878/1878 [==============================] - 9s 5ms/step - loss: 0.0186 - acc: 0.9965 - ignore_accuracy: 0.9632 - val_loss: 0.0539 - val_acc: 0.9874 - val_ignore_accuracy: 0.8709\n",
            "Epoch 97/100\n",
            "1878/1878 [==============================] - 9s 5ms/step - loss: 0.0180 - acc: 0.9966 - ignore_accuracy: 0.9641 - val_loss: 0.0535 - val_acc: 0.9875 - val_ignore_accuracy: 0.8709\n",
            "Epoch 98/100\n",
            "1878/1878 [==============================] - 9s 5ms/step - loss: 0.0175 - acc: 0.9967 - ignore_accuracy: 0.9649 - val_loss: 0.0534 - val_acc: 0.9875 - val_ignore_accuracy: 0.8709\n",
            "Epoch 99/100\n",
            "1878/1878 [==============================] - 9s 5ms/step - loss: 0.0170 - acc: 0.9968 - ignore_accuracy: 0.9658 - val_loss: 0.0529 - val_acc: 0.9875 - val_ignore_accuracy: 0.8710\n",
            "Epoch 100/100\n",
            "1878/1878 [==============================] - 9s 5ms/step - loss: 0.0166 - acc: 0.9969 - ignore_accuracy: 0.9667 - val_loss: 0.0534 - val_acc: 0.9876 - val_ignore_accuracy: 0.8722\n"
          ],
          "name": "stdout"
        }
      ]
    },
    {
      "metadata": {
        "slideshow": {
          "slide_type": "slide"
        },
        "id": "fr0DO2e522wU",
        "colab_type": "code",
        "outputId": "ad5adc48-7c6d-4222-ccec-a38dccaf7231",
        "colab": {
          "base_uri": "https://localhost:8080/",
          "height": 55
        }
      },
      "cell_type": "code",
      "source": [
        "predictions = model.predict(test_samples_X)\n",
        "print(logits_to_tokens(predictions, {i: t for t, i in tag2index.items()}))"
      ],
      "execution_count": 23,
      "outputs": [
        {
          "output_type": "stream",
          "text": [
            "[['MD', 'VBZ', 'RB', 'JJ', 'IN', 'PRP', '.', '-PAD-', '-PAD-', '-PAD-', '-PAD-', '-PAD-', '-PAD-', '-PAD-', '-PAD-', '-PAD-', '-PAD-', '-PAD-', '-PAD-', '-PAD-', '-PAD-', '-PAD-', '-PAD-', '-PAD-', '-PAD-', '-PAD-', '-PAD-', '-PAD-', '-PAD-', '-PAD-', '-PAD-', '-PAD-', '-PAD-', '-PAD-', '-PAD-', '-PAD-', '-PAD-', '-PAD-', '-PAD-', '-PAD-', '-PAD-', '-PAD-', '-PAD-', '-PAD-', '-PAD-', '-PAD-', '-PAD-', '-PAD-', '-PAD-', '-PAD-', '-PAD-', '-PAD-', '-PAD-', '-PAD-', '-PAD-', '-PAD-', '-PAD-', '-PAD-', '-PAD-', '-PAD-', '-PAD-', '-PAD-', '-PAD-', '-PAD-', '-PAD-', '-PAD-', '-PAD-', '-PAD-', '-PAD-', '-PAD-', '-PAD-', '-PAD-', '-PAD-', '-PAD-', '-PAD-', '-PAD-', '-PAD-', '-PAD-', '-PAD-', '-PAD-', '-PAD-', '-PAD-', '-PAD-', '-PAD-', '-PAD-', '-PAD-', '-PAD-', '-PAD-', '-PAD-', '-PAD-', '-PAD-', '-PAD-', '-PAD-', '-PAD-', '-PAD-', '-PAD-', '-PAD-', '-PAD-', '-PAD-', '-PAD-', '-PAD-', '-PAD-', '-PAD-', '-PAD-', '-PAD-', '-PAD-', '-PAD-', '-PAD-', '-PAD-', '-PAD-', '-PAD-', '-PAD-', '-PAD-', '-PAD-', '-PAD-', '-PAD-', '-PAD-', '-PAD-', '-PAD-', '-PAD-', '-PAD-', '-PAD-', '-PAD-', '-PAD-', '-PAD-', '-PAD-', '-PAD-', '-PAD-', '-PAD-', '-PAD-', '-PAD-', '-PAD-', '-PAD-', '-PAD-', '-PAD-', '-PAD-', '-PAD-', '-PAD-', '-PAD-', '-PAD-', '-PAD-', '-PAD-', '-PAD-', '-PAD-', '-PAD-', '-PAD-', '-PAD-', '-PAD-', '-PAD-', '-PAD-', '-PAD-', '-PAD-', '-PAD-', '-PAD-', '-PAD-', '-PAD-', '-PAD-', '-PAD-', '-PAD-', '-PAD-', '-PAD-', '-PAD-', '-PAD-', '-PAD-', '-PAD-', '-PAD-', '-PAD-', '-PAD-', '-PAD-', '-PAD-', '-PAD-', '-PAD-', '-PAD-', '-PAD-', '-PAD-', '-PAD-', '-PAD-', '-PAD-', '-PAD-', '-PAD-', '-PAD-', '-PAD-', '-PAD-', '-PAD-', '-PAD-', '-PAD-', '-PAD-', '-PAD-', '-PAD-', '-PAD-', '-PAD-', '-PAD-', '-PAD-', '-PAD-', '-PAD-', '-PAD-', '-PAD-', '-PAD-', '-PAD-', '-PAD-', '-PAD-', '-PAD-', '-PAD-', '-PAD-', '-PAD-', '-PAD-', '-PAD-', '-PAD-', '-PAD-', '-PAD-', '-PAD-', '-PAD-', '-PAD-', '-PAD-', '-PAD-', '-PAD-', '-PAD-', '-PAD-', '-PAD-', '-PAD-', '-PAD-', '-PAD-', '-PAD-', '-PAD-', '-PAD-', '-PAD-', '-PAD-', '-PAD-', '-PAD-', '-PAD-', '-PAD-', '-PAD-', '-PAD-', '-PAD-', '-PAD-', '-PAD-', '-PAD-', '-PAD-', '-PAD-', '-PAD-', '-PAD-', '-PAD-', '-PAD-', '-PAD-', '-PAD-', '-PAD-', '-PAD-', '-PAD-', '-PAD-', '-PAD-', '-PAD-', '-PAD-', '-PAD-', '-PAD-', '-PAD-', '-PAD-', '-PAD-', '-PAD-', '-PAD-', '-PAD-', '-PAD-', '-PAD-', '-PAD-', '-PAD-', '-PAD-', '-PAD-', '-PAD-', '-PAD-', '-PAD-', '-PAD-', '-PAD-'], ['PRP', 'VBD', 'VBG', 'DT', 'NN', 'IN', 'DT', 'NN', '.', '-PAD-', '-PAD-', '-PAD-', '-PAD-', '-PAD-', '-PAD-', '-PAD-', '-PAD-', '-PAD-', '-PAD-', '-PAD-', '-PAD-', '-PAD-', '-PAD-', '-PAD-', '-PAD-', '-PAD-', '-PAD-', '-PAD-', '-PAD-', '-PAD-', '-PAD-', '-PAD-', '-PAD-', '-PAD-', '-PAD-', '-PAD-', '-PAD-', '-PAD-', '-PAD-', '-PAD-', '-PAD-', '-PAD-', '-PAD-', '-PAD-', '-PAD-', '-PAD-', '-PAD-', '-PAD-', '-PAD-', '-PAD-', '-PAD-', '-PAD-', '-PAD-', '-PAD-', '-PAD-', '-PAD-', '-PAD-', '-PAD-', '-PAD-', '-PAD-', '-PAD-', '-PAD-', '-PAD-', '-PAD-', '-PAD-', '-PAD-', '-PAD-', '-PAD-', '-PAD-', '-PAD-', '-PAD-', '-PAD-', '-PAD-', '-PAD-', '-PAD-', '-PAD-', '-PAD-', '-PAD-', '-PAD-', '-PAD-', '-PAD-', '-PAD-', '-PAD-', '-PAD-', '-PAD-', '-PAD-', '-PAD-', '-PAD-', '-PAD-', '-PAD-', '-PAD-', '-PAD-', '-PAD-', '-PAD-', '-PAD-', '-PAD-', '-PAD-', '-PAD-', '-PAD-', '-PAD-', '-PAD-', '-PAD-', '-PAD-', '-PAD-', '-PAD-', '-PAD-', '-PAD-', '-PAD-', '-PAD-', '-PAD-', '-PAD-', '-PAD-', '-PAD-', '-PAD-', '-PAD-', '-PAD-', '-PAD-', '-PAD-', '-PAD-', '-PAD-', '-PAD-', '-PAD-', '-PAD-', '-PAD-', '-PAD-', '-PAD-', '-PAD-', '-PAD-', '-PAD-', '-PAD-', '-PAD-', '-PAD-', '-PAD-', '-PAD-', '-PAD-', '-PAD-', '-PAD-', '-PAD-', '-PAD-', '-PAD-', '-PAD-', '-PAD-', '-PAD-', '-PAD-', '-PAD-', '-PAD-', '-PAD-', '-PAD-', '-PAD-', '-PAD-', '-PAD-', '-PAD-', '-PAD-', '-PAD-', '-PAD-', '-PAD-', '-PAD-', '-PAD-', '-PAD-', '-PAD-', '-PAD-', '-PAD-', '-PAD-', '-PAD-', '-PAD-', '-PAD-', '-PAD-', '-PAD-', '-PAD-', '-PAD-', '-PAD-', '-PAD-', '-PAD-', '-PAD-', '-PAD-', '-PAD-', '-PAD-', '-PAD-', '-PAD-', '-PAD-', '-PAD-', '-PAD-', '-PAD-', '-PAD-', '-PAD-', '-PAD-', '-PAD-', '-PAD-', '-PAD-', '-PAD-', '-PAD-', '-PAD-', '-PAD-', '-PAD-', '-PAD-', '-PAD-', '-PAD-', '-PAD-', '-PAD-', '-PAD-', '-PAD-', '-PAD-', '-PAD-', '-PAD-', '-PAD-', '-PAD-', '-PAD-', '-PAD-', '-PAD-', '-PAD-', '-PAD-', '-PAD-', '-PAD-', '-PAD-', '-PAD-', '-PAD-', '-PAD-', '-PAD-', '-PAD-', '-PAD-', '-PAD-', '-PAD-', '-PAD-', '-PAD-', '-PAD-', '-PAD-', '-PAD-', '-PAD-', '-PAD-', '-PAD-', '-PAD-', '-PAD-', '-PAD-', '-PAD-', '-PAD-', '-PAD-', '-PAD-', '-PAD-', '-PAD-', '-PAD-', '-PAD-', '-PAD-', '-PAD-', '-PAD-', '-PAD-', '-PAD-', '-PAD-', '-PAD-', '-PAD-', '-PAD-', '-PAD-', '-PAD-', '-PAD-', '-PAD-', '-PAD-', '-PAD-', '-PAD-', '-PAD-', '-PAD-', '-PAD-', '-PAD-', '-PAD-', '-PAD-', '-PAD-', '-PAD-', '-PAD-', '-PAD-', '-PAD-', '-PAD-', '-PAD-', '-PAD-']]\n"
          ],
          "name": "stdout"
        }
      ]
    },
    {
      "metadata": {
        "slideshow": {
          "slide_type": "slide"
        },
        "id": "dWsUFxFb22wZ",
        "colab_type": "text"
      },
      "cell_type": "markdown",
      "source": [
        "We can see the great difference in accuracy when we ignore the padding symbol. Also, note that the results reported by the original post https://nlpforhackers.io/lstm-pos-tagger-keras/ are better, probably because they used two LSTM chains: one going forwards, and another going backwards. This is what is called a **bidirectional recurrent network**, and it usually reports better results because each prediction is based on the context on the left and the right of the token."
      ]
    },
    {
      "metadata": {
        "id": "QFJouksxEsDM",
        "colab_type": "code",
        "outputId": "942bacca-6055-4030-8d8e-bca6f3882c2b",
        "colab": {
          "base_uri": "https://localhost:8080/",
          "height": 35
        }
      },
      "cell_type": "code",
      "source": [
        "history.history.keys()"
      ],
      "execution_count": 24,
      "outputs": [
        {
          "output_type": "execute_result",
          "data": {
            "text/plain": [
              "dict_keys(['val_loss', 'val_acc', 'val_ignore_accuracy', 'loss', 'acc', 'ignore_accuracy'])"
            ]
          },
          "metadata": {
            "tags": []
          },
          "execution_count": 24
        }
      ]
    },
    {
      "metadata": {
        "id": "L_ieDH5d22wb",
        "colab_type": "code",
        "outputId": "425a10e3-2770-44aa-90bf-7aaea1f351fe",
        "colab": {
          "base_uri": "https://localhost:8080/",
          "height": 335
        }
      },
      "cell_type": "code",
      "source": [
        "%matplotlib inline\n",
        "from matplotlib import pyplot as plt\n",
        "plt.rcParams['figure.figsize'] = [15, 5]\n",
        "\n",
        "acc = history.history['acc']\n",
        "val_acc = history.history['val_acc']\n",
        "ignore_acc = history.history['ignore_accuracy']\n",
        "val_ignore_acc = history.history['val_ignore_accuracy']\n",
        "loss = history.history['loss']\n",
        "val_loss = history.history['val_loss']\n",
        "\n",
        "epochs = range(len(acc))\n",
        "\n",
        "plt.subplot(121)\n",
        "plt.plot(epochs, acc, 'bo', label='Training acc')\n",
        "plt.plot(epochs, val_acc, 'b', label='Validation acc')\n",
        "plt.plot(epochs, ignore_acc, 'go', label='Training ignore acc')\n",
        "plt.plot(epochs, val_ignore_acc, 'g', label='Validation ignore acc')\n",
        "plt.title('Training and validation accuracy')\n",
        "plt.legend()\n",
        "\n",
        "plt.subplot(122)\n",
        "plt.plot(epochs, loss, 'bo', label='Training loss')\n",
        "plt.plot(epochs, val_loss, 'b', label='Validation loss')\n",
        "plt.title('Training and validation loss')\n",
        "plt.legend()\n",
        "\n",
        "plt.show()\n"
      ],
      "execution_count": 30,
      "outputs": [
        {
          "output_type": "display_data",
          "data": {
            "image/png": "[encoded data removed]",
            "text/plain": [
              "<Figure size 1080x360 with 2 Axes>"
            ]
          },
          "metadata": {
            "tags": []
          }
        }
      ]
    },
    {
      "metadata": {
        "id": "BPsYClKQFTtc",
        "colab_type": "code",
        "colab": {}
      },
      "cell_type": "code",
      "source": [
        ""
      ],
      "execution_count": 0,
      "outputs": []
    }
  ]
}